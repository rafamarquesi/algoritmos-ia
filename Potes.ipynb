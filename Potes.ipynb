{
 "cells": [
  {
   "cell_type": "markdown",
   "metadata": {
    "pycharm": {
     "name": "#%% md\n"
    }
   },
   "source": [
    "# Implementação de algoritmos de busca - Problema dos potes de água"
   ]
  },
  {
   "cell_type": "markdown",
   "metadata": {
    "pycharm": {
     "name": "#%% md\n"
    }
   },
   "source": [
    "Nesta aula, vamos implementar a solução para um problema de busca Vamos considerar o problema dos potes de água. Tem se dois recipientes de água, um com capacidade de 7 litros e outro com capacidade de 5 litros Inicialmente ambos estão vazios. É necessário encher um dos recipientes com 4 litros, sendo que as únicas operações possíveis são encher (existe também uma fonte externa) ou esvaziar completamente um dos recipientes ou passar todo o conteúdo de um recipiente para outro.\n",
    "\n",
    "\n",
    "<img src=\"estados.png\" width=\"500\" />\n"
   ]
  },
  {
   "cell_type": "markdown",
   "metadata": {
    "pycharm": {
     "name": "#%% md\n"
    }
   },
   "source": [
    "Vamos implementar uma solução utilizando uma lista com duas posições, cada posição representando o conteúdo de um dos potes. A primeira posição representará o pote com capacidade de 7 litros; a segunda posição representará o pote com capacidade de 5 litros. "
   ]
  },
  {
   "cell_type": "markdown",
   "metadata": {
    "pycharm": {
     "name": "#%% md\n"
    }
   },
   "source": [
    "## Função para geração dos filhos\n",
    "\n",
    "Vamos construir uma função que, dado um estado qualquer, gere uma lista com todos os filhos **válidos** deste estado. "
   ]
  },
  {
   "cell_type": "code",
   "execution_count": 1,
   "metadata": {
    "pycharm": {
     "name": "#%%\n"
    }
   },
   "outputs": [],
   "source": [
    "def generateSons(s): # s[0]: qtd de litros no pote 1; s[1]: qtd de litros no pote 2\n",
    "    \n",
    "    listOfSons = list() # Armazena os filhos de um nó\n",
    "    \n",
    "    #encher pote 1\n",
    "    state = [7, s[1]]\n",
    "    listOfSons.append(state)\n",
    "    \n",
    "    #encer pote 2\n",
    "    state = [s[0], 5]\n",
    "    listOfSons.append(state)\n",
    "    \n",
    "    #esvaziar pote 1\n",
    "    state = [0, s[1]]\n",
    "    listOfSons.append(state)\n",
    "    \n",
    "    #esvaziar pote 2\n",
    "    state = [s[0], 0]\n",
    "    listOfSons.append(state)\n",
    "    \n",
    "    #verter pote 1 no pote 2\n",
    "    if s[0] >= 5-s[1]:\n",
    "        state = [s[0]-(5-s[1]), 5]\n",
    "    else:\n",
    "        state = [0, s[1] + s[0]]\n",
    "    listOfSons.append(state)\n",
    "    \n",
    "    #verter pote 2 no pote 1\n",
    "    \n",
    "    if s[1] <= 7 - s[0]:\n",
    "        state = [s[0] + s[1], 0]\n",
    "    else:\n",
    "        state = [s[0] + (7 - s[0]), s[1] - (7 - s[0])]\n",
    "    listOfSons.append(state)\n",
    "    \n",
    "    return listOfSons    "
   ]
  },
  {
   "cell_type": "markdown",
   "metadata": {
    "pycharm": {
     "name": "#%% md\n"
    }
   },
   "source": [
    "## Função para verificação de estado final\n",
    "\n",
    "Precisamos de uma função que, dado um estado, verifique se ele atende à restrição de fim de busca (ou seja, se tem 4 litros em, pelo menos, um dos potes)"
   ]
  },
  {
   "cell_type": "code",
   "execution_count": 2,
   "metadata": {
    "pycharm": {
     "name": "#%%\n"
    }
   },
   "outputs": [],
   "source": [
    "def isGoal(s):\n",
    "    if s[0] == 4 or s[1] == 4:\n",
    "        return True\n",
    "    else:\n",
    "        return False"
   ]
  },
  {
   "cell_type": "markdown",
   "metadata": {
    "pycharm": {
     "name": "#%% md\n"
    }
   },
   "source": [
    "## Função auxiliar - son2str\n",
    "\n",
    "O objetivo dessa função é criar uma string que identifique um nó, para que seja utilizada como chave desse nó em um dicionário (estrutura similar a um mapa). Em Python, a chave de um dicionário é, sempre, um objeto imutável, como uma string. "
   ]
  },
  {
   "cell_type": "code",
   "execution_count": 3,
   "metadata": {
    "pycharm": {
     "name": "#%%\n"
    }
   },
   "outputs": [],
   "source": [
    "def son2str(s):\n",
    "    return ''.join([str(v) for v in s]) # s = [3, 2]: '32'"
   ]
  },
  {
   "cell_type": "markdown",
   "metadata": {
    "pycharm": {
     "name": "#%% md\n"
    }
   },
   "source": [
    "## Busca em largura\n",
    "\n",
    "Agora, podemos modelar o nosso procedimento de busca. "
   ]
  },
  {
   "cell_type": "code",
   "execution_count": 4,
   "metadata": {
    "pycharm": {
     "name": "#%%\n"
    }
   },
   "outputs": [],
   "source": [
    "def bfs(start): #start= [0,0]\n",
    "    candidates = [start] # Fronteira de busca\n",
    "    fathers = dict() # Armazenar os pais dos nós no caminho percorrido\n",
    "    visited = [start] # Armazena os nós já visitados para evitar loops\n",
    "    \n",
    "    while(len(candidates) > 0): # Encerra a busca apenas com a fronteira vazia\n",
    "        father = candidates[0]\n",
    "        print(\"Candidates: \", candidates)\n",
    "        del candidates[0]\n",
    "        print(\"Visited: \", father)\n",
    "        \n",
    "        if isGoal(father): # Se for um nó final\n",
    "            res = []       # Acumula o caminho do começo até o nó final \n",
    "            node = father  # Começo a reconstruir o caminho a partir do nó final\n",
    "            while node != start: # Volta no caminho até encontrar o nó inicial\n",
    "                res.append(node)\n",
    "                node = fathers[son2str(node)]\n",
    "            res.append(start) \n",
    "            res.reverse()\n",
    "            print(\"Solution found: \", res)\n",
    "            input()\n",
    "            \n",
    "        for son in generateSons(father): #Para todos os nós, gera os filhos deste nó\n",
    "            if son not in visited: # Para cada filho gerado, verifica se já não foi visitado\n",
    "                print(\"Inserted: \", son, father) \n",
    "                visited.append(son) \n",
    "                fathers[son2str(son)] = father \n",
    "                candidates.append(son)"
   ]
  },
  {
   "cell_type": "markdown",
   "metadata": {
    "pycharm": {
     "name": "#%% md\n"
    }
   },
   "source": [
    "## Principal"
   ]
  },
  {
   "cell_type": "code",
   "execution_count": 5,
   "metadata": {
    "scrolled": false,
    "pycharm": {
     "name": "#%%\n"
    }
   },
   "outputs": [
    {
     "name": "stdout",
     "output_type": "stream",
     "text": [
      "Candidates:  [[0, 0]]\n",
      "Visited:  [0, 0]\n",
      "Inserted:  [7, 0] [0, 0]\n",
      "Inserted:  [0, 5] [0, 0]\n",
      "Candidates:  [[7, 0], [0, 5]]\n",
      "Visited:  [7, 0]\n",
      "Inserted:  [7, 5] [7, 0]\n",
      "Inserted:  [2, 5] [7, 0]\n",
      "Candidates:  [[0, 5], [7, 5], [2, 5]]\n",
      "Visited:  [0, 5]\n",
      "Inserted:  [5, 0] [0, 5]\n",
      "Candidates:  [[7, 5], [2, 5], [5, 0]]\n",
      "Visited:  [7, 5]\n",
      "Candidates:  [[2, 5], [5, 0]]\n",
      "Visited:  [2, 5]\n",
      "Inserted:  [2, 0] [2, 5]\n",
      "Candidates:  [[5, 0], [2, 0]]\n",
      "Visited:  [5, 0]\n",
      "Inserted:  [5, 5] [5, 0]\n",
      "Candidates:  [[2, 0], [5, 5]]\n",
      "Visited:  [2, 0]\n",
      "Inserted:  [0, 2] [2, 0]\n",
      "Candidates:  [[5, 5], [0, 2]]\n",
      "Visited:  [5, 5]\n",
      "Inserted:  [7, 3] [5, 5]\n",
      "Candidates:  [[0, 2], [7, 3]]\n",
      "Visited:  [0, 2]\n",
      "Inserted:  [7, 2] [0, 2]\n",
      "Candidates:  [[7, 3], [7, 2]]\n",
      "Visited:  [7, 3]\n",
      "Inserted:  [0, 3] [7, 3]\n",
      "Candidates:  [[7, 2], [0, 3]]\n",
      "Visited:  [7, 2]\n",
      "Inserted:  [4, 5] [7, 2]\n",
      "Candidates:  [[0, 3], [4, 5]]\n",
      "Visited:  [0, 3]\n",
      "Inserted:  [3, 0] [0, 3]\n",
      "Candidates:  [[4, 5], [3, 0]]\n",
      "Visited:  [4, 5]\n",
      "Solution found:  [[0, 0], [7, 0], [2, 5], [2, 0], [0, 2], [7, 2], [4, 5]]\n",
      "Inserted:  [4, 0] [4, 5]\n",
      "Candidates:  [[3, 0], [4, 0]]\n",
      "Visited:  [3, 0]\n",
      "Inserted:  [3, 5] [3, 0]\n",
      "Candidates:  [[4, 0], [3, 5]]\n",
      "Visited:  [4, 0]\n",
      "Solution found:  [[0, 0], [7, 0], [2, 5], [2, 0], [0, 2], [7, 2], [4, 5], [4, 0]]\n",
      "Inserted:  [0, 4] [4, 0]\n",
      "Candidates:  [[3, 5], [0, 4]]\n",
      "Visited:  [3, 5]\n",
      "Inserted:  [7, 1] [3, 5]\n",
      "Candidates:  [[0, 4], [7, 1]]\n",
      "Visited:  [0, 4]\n",
      "Solution found:  [[0, 0], [7, 0], [2, 5], [2, 0], [0, 2], [7, 2], [4, 5], [4, 0], [0, 4]]\n",
      "Inserted:  [7, 4] [0, 4]\n",
      "Candidates:  [[7, 1], [7, 4]]\n",
      "Visited:  [7, 1]\n",
      "Inserted:  [0, 1] [7, 1]\n",
      "Candidates:  [[7, 4], [0, 1]]\n",
      "Visited:  [7, 4]\n",
      "Solution found:  [[0, 0], [7, 0], [2, 5], [2, 0], [0, 2], [7, 2], [4, 5], [4, 0], [0, 4], [7, 4]]\n",
      "Inserted:  [6, 5] [7, 4]\n",
      "Candidates:  [[0, 1], [6, 5]]\n",
      "Visited:  [0, 1]\n",
      "Inserted:  [1, 0] [0, 1]\n",
      "Candidates:  [[6, 5], [1, 0]]\n",
      "Visited:  [6, 5]\n",
      "Inserted:  [6, 0] [6, 5]\n",
      "Candidates:  [[1, 0], [6, 0]]\n",
      "Visited:  [1, 0]\n",
      "Inserted:  [1, 5] [1, 0]\n",
      "Candidates:  [[6, 0], [1, 5]]\n",
      "Visited:  [6, 0]\n",
      "Candidates:  [[1, 5]]\n",
      "Visited:  [1, 5]\n"
     ]
    }
   ],
   "source": [
    "bfs([0,0])"
   ]
  },
  {
   "cell_type": "code",
   "execution_count": 5,
   "metadata": {
    "pycharm": {
     "name": "#%%\n"
    }
   },
   "outputs": [],
   "source": []
  },
  {
   "cell_type": "code",
   "execution_count": 5,
   "metadata": {
    "pycharm": {
     "name": "#%%\n"
    }
   },
   "outputs": [],
   "source": []
  }
 ],
 "metadata": {
  "kernelspec": {
   "display_name": "Python 3",
   "language": "python",
   "name": "python3"
  },
  "language_info": {
   "codemirror_mode": {
    "name": "ipython",
    "version": 3
   },
   "file_extension": ".py",
   "mimetype": "text/x-python",
   "name": "python",
   "nbconvert_exporter": "python",
   "pygments_lexer": "ipython3",
   "version": "3.8.5"
  }
 },
 "nbformat": 4,
 "nbformat_minor": 4
}