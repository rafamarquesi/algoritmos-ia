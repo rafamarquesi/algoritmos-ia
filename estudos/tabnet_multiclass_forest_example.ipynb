{
 "cells": [
  {
   "cell_type": "markdown",
   "source": [
    "# multi-class classification examples\n",
    "\n",
    "Author: Optimox, eduardocarvp, Hartorn, queraq\n",
    "\n",
    "Article from [github.com/dreamquark-ai/tabnet/](https://github.com/dreamquark-ai/tabnet/blob/develop/forest_example.ipynb).\n",
    "\n",
    "> Note: In this notebook, I am studying the article mentioned above. Some changes may have been made to the code during its implementation."
   ],
   "metadata": {
    "collapsed": false
   }
  },
  {
   "cell_type": "markdown",
   "source": [
    "# Library"
   ],
   "metadata": {
    "collapsed": false
   }
  },
  {
   "cell_type": "code",
   "execution_count": 1,
   "metadata": {},
   "outputs": [],
   "source": [
    "from pytorch_tabnet.tab_model import TabNetClassifier\n",
    "\n",
    "import torch\n",
    "from sklearn.preprocessing import LabelEncoder\n",
    "from sklearn.metrics import accuracy_score\n",
    "from sklearn.model_selection import train_test_split\n",
    "import pandas as pd\n",
    "import numpy as np\n",
    "np.random.seed(0)\n",
    "\n",
    "\n",
    "import os\n",
    "import wget\n",
    "from pathlib import Path\n",
    "import shutil\n",
    "import gzip\n",
    "\n",
    "from matplotlib import pyplot as plt\n",
    "%matplotlib inline"
   ]
  },
  {
   "cell_type": "markdown",
   "metadata": {},
   "source": [
    "# Download ForestCoverType dataset"
   ]
  },
  {
   "cell_type": "code",
   "execution_count": 5,
   "metadata": {},
   "outputs": [],
   "source": [
    "url = \"https://archive.ics.uci.edu/ml/machine-learning-databases/covtype/covtype.data.gz\"\n",
    "dataset_name = 'forest-cover-type'\n",
    "tmp_out = Path('./datasets/'+dataset_name+'.gz')\n",
    "out = Path(os.getcwd()+'/datasets/'+dataset_name+'.csv')"
   ]
  },
  {
   "cell_type": "code",
   "execution_count": 6,
   "metadata": {},
   "outputs": [
    {
     "name": "stdout",
     "output_type": "stream",
     "text": [
      "Downloading file...\n"
     ]
    }
   ],
   "source": [
    "out.parent.mkdir(parents=True, exist_ok=True)\n",
    "if out.exists():\n",
    "    print(\"File already exists.\")\n",
    "else:\n",
    "    print(\"Downloading file...\")\n",
    "    wget.download(url, tmp_out.as_posix())\n",
    "    with gzip.open(tmp_out, 'rb') as f_in:\n",
    "        with open(out, 'wb') as f_out:\n",
    "            shutil.copyfileobj(f_in, f_out)"
   ]
  },
  {
   "cell_type": "markdown",
   "metadata": {},
   "source": [
    "# Load data and split\n",
    "Same split as in original paper"
   ]
  },
  {
   "cell_type": "code",
   "execution_count": 7,
   "metadata": {},
   "outputs": [],
   "source": [
    "target = \"Covertype\"\n",
    "\n",
    "bool_columns = [\n",
    "    \"Wilderness_Area1\", \"Wilderness_Area2\", \"Wilderness_Area3\",\n",
    "    \"Wilderness_Area4\", \"Soil_Type1\", \"Soil_Type2\", \"Soil_Type3\", \"Soil_Type4\",\n",
    "    \"Soil_Type5\", \"Soil_Type6\", \"Soil_Type7\", \"Soil_Type8\", \"Soil_Type9\",\n",
    "    \"Soil_Type10\", \"Soil_Type11\", \"Soil_Type12\", \"Soil_Type13\", \"Soil_Type14\",\n",
    "    \"Soil_Type15\", \"Soil_Type16\", \"Soil_Type17\", \"Soil_Type18\", \"Soil_Type19\",\n",
    "    \"Soil_Type20\", \"Soil_Type21\", \"Soil_Type22\", \"Soil_Type23\", \"Soil_Type24\",\n",
    "    \"Soil_Type25\", \"Soil_Type26\", \"Soil_Type27\", \"Soil_Type28\", \"Soil_Type29\",\n",
    "    \"Soil_Type30\", \"Soil_Type31\", \"Soil_Type32\", \"Soil_Type33\", \"Soil_Type34\",\n",
    "    \"Soil_Type35\", \"Soil_Type36\", \"Soil_Type37\", \"Soil_Type38\", \"Soil_Type39\",\n",
    "    \"Soil_Type40\"\n",
    "]\n",
    "\n",
    "int_columns = [\n",
    "    \"Elevation\", \"Aspect\", \"Slope\", \"Horizontal_Distance_To_Hydrology\",\n",
    "    \"Vertical_Distance_To_Hydrology\", \"Horizontal_Distance_To_Roadways\",\n",
    "    \"Hillshade_9am\", \"Hillshade_Noon\", \"Hillshade_3pm\",\n",
    "    \"Horizontal_Distance_To_Fire_Points\"\n",
    "]\n",
    "\n",
    "feature_columns = (\n",
    "    int_columns + bool_columns + [target])\n"
   ]
  },
  {
   "cell_type": "code",
   "execution_count": 8,
   "metadata": {},
   "outputs": [],
   "source": [
    "train = pd.read_csv(out, header=None, names=feature_columns)\n",
    "\n",
    "n_total = len(train)\n",
    "\n",
    "# Train, val and test split follows\n",
    "# Rory Mitchell, Andrey Adinets, Thejaswi Rao, and Eibe Frank.\n",
    "# Xgboost: Scalable GPU accelerated learning. arXiv:1806.11248, 2018.\n",
    "\n",
    "train_val_indices, test_indices = train_test_split(\n",
    "    range(n_total), test_size=0.2, random_state=0)\n",
    "train_indices, valid_indices = train_test_split(\n",
    "    train_val_indices, test_size=0.2 / 0.6, random_state=0)\n"
   ]
  },
  {
   "cell_type": "code",
   "execution_count": 16,
   "outputs": [
    {
     "name": "stdout",
     "output_type": "stream",
     "text": [
      "Column: Elevation 1978\n",
      "Column: Aspect 361\n",
      "Column: Slope 67\n",
      "Column: Horizontal_Distance_To_Hydrology 551\n",
      "Column: Vertical_Distance_To_Hydrology 700\n",
      "Column: Horizontal_Distance_To_Roadways 5785\n",
      "Column: Hillshade_9am 207\n",
      "Column: Hillshade_Noon 185\n",
      "Column: Hillshade_3pm 255\n",
      "Column: Horizontal_Distance_To_Fire_Points 5827\n",
      "Column: Wilderness_Area1 2\n",
      "Column: Wilderness_Area2 2\n",
      "Column: Wilderness_Area3 2\n",
      "Column: Wilderness_Area4 2\n",
      "Column: Soil_Type1 2\n",
      "Column: Soil_Type2 2\n",
      "Column: Soil_Type3 2\n",
      "Column: Soil_Type4 2\n",
      "Column: Soil_Type5 2\n",
      "Column: Soil_Type6 2\n",
      "Column: Soil_Type7 2\n",
      "Column: Soil_Type8 2\n",
      "Column: Soil_Type9 2\n",
      "Column: Soil_Type10 2\n",
      "Column: Soil_Type11 2\n",
      "Column: Soil_Type12 2\n",
      "Column: Soil_Type13 2\n",
      "Column: Soil_Type14 2\n",
      "Column: Soil_Type15 2\n",
      "Column: Soil_Type16 2\n",
      "Column: Soil_Type17 2\n",
      "Column: Soil_Type18 2\n",
      "Column: Soil_Type19 2\n",
      "Column: Soil_Type20 2\n",
      "Column: Soil_Type21 2\n",
      "Column: Soil_Type22 2\n",
      "Column: Soil_Type23 2\n",
      "Column: Soil_Type24 2\n",
      "Column: Soil_Type25 2\n",
      "Column: Soil_Type26 2\n",
      "Column: Soil_Type27 2\n",
      "Column: Soil_Type28 2\n",
      "Column: Soil_Type29 2\n",
      "Column: Soil_Type30 2\n",
      "Column: Soil_Type31 2\n",
      "Column: Soil_Type32 2\n",
      "Column: Soil_Type33 2\n",
      "Column: Soil_Type34 2\n",
      "Column: Soil_Type35 2\n",
      "Column: Soil_Type36 2\n",
      "Column: Soil_Type37 2\n",
      "Column: Soil_Type38 2\n",
      "Column: Soil_Type39 2\n",
      "Column: Soil_Type40 2\n",
      "Column: Covertype 7\n"
     ]
    }
   ],
   "source": [
    "for column in train.columns:\n",
    "    print('Column: {} {}'.format(column, len(train[column].value_counts())))"
   ],
   "metadata": {
    "collapsed": false
   }
  },
  {
   "cell_type": "code",
   "execution_count": 18,
   "outputs": [],
   "source": [
    "train['Aspect'] = train['Aspect'].astype('object')"
   ],
   "metadata": {
    "collapsed": false
   }
  },
  {
   "cell_type": "code",
   "execution_count": 19,
   "outputs": [
    {
     "data": {
      "text/plain": "Elevation                              int64\nAspect                                object\nSlope                                  int64\nHorizontal_Distance_To_Hydrology       int64\nVertical_Distance_To_Hydrology         int64\nHorizontal_Distance_To_Roadways        int64\nHillshade_9am                          int64\nHillshade_Noon                         int64\nHillshade_3pm                          int64\nHorizontal_Distance_To_Fire_Points     int64\nWilderness_Area1                       int64\nWilderness_Area2                       int64\nWilderness_Area3                       int64\nWilderness_Area4                       int64\nSoil_Type1                             int64\nSoil_Type2                             int64\nSoil_Type3                             int64\nSoil_Type4                             int64\nSoil_Type5                             int64\nSoil_Type6                             int64\nSoil_Type7                             int64\nSoil_Type8                             int64\nSoil_Type9                             int64\nSoil_Type10                            int64\nSoil_Type11                            int64\nSoil_Type12                            int64\nSoil_Type13                            int64\nSoil_Type14                            int64\nSoil_Type15                            int64\nSoil_Type16                            int64\nSoil_Type17                            int64\nSoil_Type18                            int64\nSoil_Type19                            int64\nSoil_Type20                            int64\nSoil_Type21                            int64\nSoil_Type22                            int64\nSoil_Type23                            int64\nSoil_Type24                            int64\nSoil_Type25                            int64\nSoil_Type26                            int64\nSoil_Type27                            int64\nSoil_Type28                            int64\nSoil_Type29                            int64\nSoil_Type30                            int64\nSoil_Type31                            int64\nSoil_Type32                            int64\nSoil_Type33                            int64\nSoil_Type34                            int64\nSoil_Type35                            int64\nSoil_Type36                            int64\nSoil_Type37                            int64\nSoil_Type38                            int64\nSoil_Type39                            int64\nSoil_Type40                            int64\nCovertype                              int64\ndtype: object"
     },
     "execution_count": 19,
     "metadata": {},
     "output_type": "execute_result"
    }
   ],
   "source": [
    "train.dtypes"
   ],
   "metadata": {
    "collapsed": false
   }
  },
  {
   "cell_type": "markdown",
   "metadata": {},
   "source": [
    "# Simple preprocessing\n",
    "\n",
    "Label encode categorical features and fill empty cells."
   ]
  },
  {
   "cell_type": "code",
   "execution_count": 20,
   "metadata": {},
   "outputs": [
    {
     "name": "stdout",
     "output_type": "stream",
     "text": [
      "Aspect 361\n"
     ]
    }
   ],
   "source": [
    "categorical_columns = []\n",
    "categorical_dims =  {}\n",
    "for col in train.columns[train.dtypes == object]:\n",
    "    print(col, train[col].nunique())\n",
    "    l_enc = LabelEncoder()\n",
    "    train[col] = train[col].fillna(\"VV_likely\")\n",
    "    train[col] = l_enc.fit_transform(train[col].values)\n",
    "    categorical_columns.append(col)\n",
    "    categorical_dims[col] = len(l_enc.classes_)\n",
    "\n",
    "for col in train.columns[train.dtypes == 'float64']:\n",
    "    train.fillna(train.loc[train_indices, col].mean(), inplace=True)"
   ]
  },
  {
   "cell_type": "markdown",
   "metadata": {},
   "source": [
    "# Define categorical features for categorical embeddings"
   ]
  },
  {
   "cell_type": "code",
   "execution_count": 21,
   "metadata": {},
   "outputs": [],
   "source": [
    "# This is a generic pipeline but actually no categorical features are available for this dataset\n",
    "\n",
    "unused_feat = []\n",
    "\n",
    "features = [ col for col in train.columns if col not in unused_feat+[target]] \n",
    "\n",
    "cat_idxs = [ i for i, f in enumerate(features) if f in categorical_columns]\n",
    "\n",
    "cat_dims = [ categorical_dims[f] for i, f in enumerate(features) if f in categorical_columns]\n"
   ]
  },
  {
   "cell_type": "markdown",
   "metadata": {},
   "source": [
    "# Network parameters"
   ]
  },
  {
   "cell_type": "code",
   "execution_count": 23,
   "metadata": {},
   "outputs": [
    {
     "name": "stderr",
     "output_type": "stream",
     "text": [
      "/mnt/Dados/Mestrado_Computacao_Aplicada_UFMS/1_semestre/Inteligencia_Artificial/algoritmos-ia/venv/lib/python3.8/site-packages/pytorch_tabnet/abstract_model.py:75: UserWarning: Device used : cpu\n",
      "  warnings.warn(f\"Device used : {self.device}\")\n"
     ]
    }
   ],
   "source": [
    "clf = TabNetClassifier(\n",
    "    n_d=64, n_a=64, n_steps=5,\n",
    "    gamma=1.5, n_independent=2, n_shared=2,\n",
    "    cat_idxs=cat_idxs,\n",
    "    cat_dims=cat_dims,\n",
    "    cat_emb_dim=1,\n",
    "    lambda_sparse=1e-4, momentum=0.3, clip_value=2.,\n",
    "    optimizer_fn=torch.optim.Adam,\n",
    "    optimizer_params=dict(lr=2e-2),\n",
    "    scheduler_params = {\"gamma\": 0.95,\n",
    "                     \"step_size\": 20},\n",
    "    scheduler_fn=torch.optim.lr_scheduler.StepLR, epsilon=1e-15,\n",
    "    device_name = 'cpu'\n",
    ")"
   ]
  },
  {
   "cell_type": "markdown",
   "metadata": {},
   "source": [
    "# Training"
   ]
  },
  {
   "cell_type": "code",
   "execution_count": 25,
   "metadata": {},
   "outputs": [],
   "source": [
    "if os.getenv(\"CI\", False):\n",
    "# Take only a subsample to run CI\n",
    "    X_train = train[features].values[train_indices][:1000,:]\n",
    "    y_train = train[target].values[train_indices][:1000]\n",
    "else:\n",
    "    X_train = train[features].values[train_indices]\n",
    "    y_train = train[target].values[train_indices]\n",
    "\n",
    "X_valid = train[features].values[valid_indices]\n",
    "y_valid = train[target].values[valid_indices]\n",
    "\n",
    "X_test = train[features].values[test_indices]\n",
    "y_test = train[target].values[test_indices]"
   ]
  },
  {
   "cell_type": "code",
   "execution_count": 26,
   "metadata": {},
   "outputs": [],
   "source": [
    "max_epochs = 100 if not os.getenv(\"CI\", False) else 2"
   ]
  },
  {
   "cell_type": "code",
   "execution_count": 28,
   "metadata": {
    "scrolled": true
   },
   "outputs": [
    {
     "name": "stdout",
     "output_type": "stream",
     "text": [
      "epoch 0  | loss: 1.45941 | train_accuracy: 0.12166 | valid_accuracy: 0.1199  |  0:01:24s\n",
      "epoch 1  | loss: 0.79861 | train_accuracy: 0.16611 | valid_accuracy: 0.16433 |  0:02:49s\n",
      "epoch 2  | loss: 0.74996 | train_accuracy: 0.0868  | valid_accuracy: 0.08586 |  0:04:14s\n",
      "epoch 3  | loss: 0.72388 | train_accuracy: 0.07055 | valid_accuracy: 0.07038 |  0:05:40s\n",
      "epoch 4  | loss: 0.70742 | train_accuracy: 0.05873 | valid_accuracy: 0.05937 |  0:07:02s\n",
      "epoch 5  | loss: 0.69486 | train_accuracy: 0.07645 | valid_accuracy: 0.07683 |  0:08:23s\n",
      "epoch 6  | loss: 0.68888 | train_accuracy: 0.09424 | valid_accuracy: 0.09373 |  0:09:47s\n",
      "epoch 7  | loss: 0.68355 | train_accuracy: 0.16203 | valid_accuracy: 0.16111 |  0:11:07s\n",
      "epoch 8  | loss: 0.6789  | train_accuracy: 0.10396 | valid_accuracy: 0.10281 |  0:12:31s\n",
      "epoch 9  | loss: 0.67149 | train_accuracy: 0.1623  | valid_accuracy: 0.16306 |  0:13:57s\n",
      "epoch 10 | loss: 0.67064 | train_accuracy: 0.22825 | valid_accuracy: 0.22944 |  0:15:19s\n",
      "epoch 11 | loss: 0.65862 | train_accuracy: 0.38958 | valid_accuracy: 0.39062 |  0:16:39s\n",
      "epoch 12 | loss: 0.64975 | train_accuracy: 0.42334 | valid_accuracy: 0.42135 |  0:18:03s\n",
      "epoch 13 | loss: 0.63577 | train_accuracy: 0.51117 | valid_accuracy: 0.51006 |  0:19:29s\n",
      "epoch 14 | loss: 0.62769 | train_accuracy: 0.59174 | valid_accuracy: 0.59023 |  0:20:55s\n",
      "epoch 15 | loss: 0.61986 | train_accuracy: 0.61638 | valid_accuracy: 0.61414 |  0:22:15s\n",
      "epoch 16 | loss: 0.62059 | train_accuracy: 0.63198 | valid_accuracy: 0.63139 |  0:23:36s\n",
      "epoch 17 | loss: 0.62145 | train_accuracy: 0.69256 | valid_accuracy: 0.69337 |  0:25:04s\n",
      "epoch 18 | loss: 0.61474 | train_accuracy: 0.70575 | valid_accuracy: 0.70451 |  0:26:27s\n",
      "epoch 19 | loss: 0.60148 | train_accuracy: 0.72597 | valid_accuracy: 0.72364 |  0:27:52s\n",
      "epoch 20 | loss: 0.59371 | train_accuracy: 0.73667 | valid_accuracy: 0.73558 |  0:29:16s\n",
      "epoch 21 | loss: 0.58576 | train_accuracy: 0.75816 | valid_accuracy: 0.75772 |  0:30:42s\n",
      "epoch 22 | loss: 0.58316 | train_accuracy: 0.76851 | valid_accuracy: 0.76685 |  0:32:05s\n",
      "epoch 23 | loss: 0.57262 | train_accuracy: 0.76992 | valid_accuracy: 0.76752 |  0:33:30s\n",
      "epoch 24 | loss: 0.57643 | train_accuracy: 0.77007 | valid_accuracy: 0.7693  |  0:34:55s\n",
      "epoch 25 | loss: 0.56688 | train_accuracy: 0.77922 | valid_accuracy: 0.77712 |  0:36:18s\n",
      "epoch 26 | loss: 0.56156 | train_accuracy: 0.78221 | valid_accuracy: 0.78027 |  0:37:40s\n",
      "epoch 27 | loss: 0.55987 | train_accuracy: 0.78316 | valid_accuracy: 0.78244 |  0:39:02s\n",
      "epoch 28 | loss: 0.55338 | train_accuracy: 0.79321 | valid_accuracy: 0.79139 |  0:40:26s\n",
      "epoch 29 | loss: 0.58408 | train_accuracy: 0.7703  | valid_accuracy: 0.76899 |  0:41:51s\n",
      "epoch 30 | loss: 0.59947 | train_accuracy: 0.78254 | valid_accuracy: 0.78062 |  0:43:17s\n",
      "epoch 31 | loss: 0.57615 | train_accuracy: 0.78841 | valid_accuracy: 0.78629 |  0:44:43s\n",
      "epoch 32 | loss: 0.56236 | train_accuracy: 0.78865 | valid_accuracy: 0.78631 |  0:46:08s\n",
      "epoch 33 | loss: 0.55025 | train_accuracy: 0.79894 | valid_accuracy: 0.79562 |  0:47:29s\n",
      "epoch 34 | loss: 0.54478 | train_accuracy: 0.79855 | valid_accuracy: 0.79659 |  0:48:55s\n",
      "epoch 35 | loss: 0.53613 | train_accuracy: 0.8021  | valid_accuracy: 0.80056 |  0:50:19s\n",
      "epoch 36 | loss: 0.53448 | train_accuracy: 0.80514 | valid_accuracy: 0.80282 |  0:51:43s\n",
      "epoch 37 | loss: 0.52737 | train_accuracy: 0.80624 | valid_accuracy: 0.80404 |  0:53:10s\n",
      "epoch 38 | loss: 0.52764 | train_accuracy: 0.80794 | valid_accuracy: 0.80565 |  0:54:37s\n",
      "epoch 39 | loss: 0.51804 | train_accuracy: 0.81435 | valid_accuracy: 0.81087 |  0:56:00s\n",
      "epoch 40 | loss: 0.50917 | train_accuracy: 0.81599 | valid_accuracy: 0.8119  |  0:57:27s\n",
      "epoch 41 | loss: 0.50444 | train_accuracy: 0.81797 | valid_accuracy: 0.81451 |  0:58:51s\n",
      "epoch 42 | loss: 0.50025 | train_accuracy: 0.81684 | valid_accuracy: 0.81451 |  1:00:16s\n",
      "epoch 43 | loss: 0.49709 | train_accuracy: 0.82135 | valid_accuracy: 0.81756 |  1:01:40s\n",
      "epoch 44 | loss: 0.48988 | train_accuracy: 0.82606 | valid_accuracy: 0.82264 |  1:03:04s\n",
      "epoch 45 | loss: 0.4918  | train_accuracy: 0.82546 | valid_accuracy: 0.8221  |  1:04:30s\n",
      "epoch 46 | loss: 0.48235 | train_accuracy: 0.82906 | valid_accuracy: 0.82443 |  1:05:53s\n",
      "epoch 47 | loss: 0.47734 | train_accuracy: 0.83124 | valid_accuracy: 0.82625 |  1:07:16s\n",
      "epoch 48 | loss: 0.47165 | train_accuracy: 0.83311 | valid_accuracy: 0.82976 |  1:08:40s\n",
      "epoch 49 | loss: 0.46868 | train_accuracy: 0.83285 | valid_accuracy: 0.82927 |  1:10:03s\n",
      "epoch 50 | loss: 0.47073 | train_accuracy: 0.83361 | valid_accuracy: 0.83091 |  1:11:29s\n",
      "epoch 51 | loss: 0.46805 | train_accuracy: 0.83604 | valid_accuracy: 0.83265 |  1:12:53s\n",
      "epoch 52 | loss: 0.46414 | train_accuracy: 0.82565 | valid_accuracy: 0.82166 |  1:14:19s\n",
      "epoch 53 | loss: 0.48067 | train_accuracy: 0.83154 | valid_accuracy: 0.82805 |  1:15:47s\n",
      "epoch 54 | loss: 0.47197 | train_accuracy: 0.83344 | valid_accuracy: 0.83063 |  1:17:13s\n",
      "epoch 55 | loss: 0.46511 | train_accuracy: 0.83886 | valid_accuracy: 0.83453 |  1:18:40s\n",
      "epoch 56 | loss: 0.45531 | train_accuracy: 0.84489 | valid_accuracy: 0.84083 |  1:20:05s\n",
      "epoch 57 | loss: 0.44385 | train_accuracy: 0.84332 | valid_accuracy: 0.83897 |  1:21:31s\n",
      "epoch 58 | loss: 0.43627 | train_accuracy: 0.84929 | valid_accuracy: 0.84487 |  1:22:54s\n",
      "epoch 59 | loss: 0.4303  | train_accuracy: 0.85005 | valid_accuracy: 0.8451  |  1:24:21s\n",
      "epoch 60 | loss: 0.43759 | train_accuracy: 0.85347 | valid_accuracy: 0.84858 |  1:25:47s\n",
      "epoch 61 | loss: 0.42934 | train_accuracy: 0.85822 | valid_accuracy: 0.85342 |  1:27:12s\n",
      "epoch 62 | loss: 0.42331 | train_accuracy: 0.85843 | valid_accuracy: 0.85464 |  1:28:36s\n",
      "epoch 63 | loss: 0.4179  | train_accuracy: 0.8498  | valid_accuracy: 0.84578 |  1:29:59s\n",
      "epoch 64 | loss: 0.42823 | train_accuracy: 0.8613  | valid_accuracy: 0.85664 |  1:31:24s\n",
      "epoch 65 | loss: 0.40884 | train_accuracy: 0.8674  | valid_accuracy: 0.86327 |  1:32:46s\n",
      "epoch 66 | loss: 0.40145 | train_accuracy: 0.8711  | valid_accuracy: 0.86695 |  1:34:13s\n",
      "epoch 67 | loss: 0.39418 | train_accuracy: 0.87477 | valid_accuracy: 0.87057 |  1:35:40s\n",
      "epoch 68 | loss: 0.39289 | train_accuracy: 0.87662 | valid_accuracy: 0.87146 |  1:37:06s\n",
      "epoch 69 | loss: 0.38904 | train_accuracy: 0.86776 | valid_accuracy: 0.86283 |  1:38:11s\n",
      "epoch 70 | loss: 0.40575 | train_accuracy: 0.87139 | valid_accuracy: 0.86638 |  1:39:16s\n",
      "epoch 71 | loss: 0.3944  | train_accuracy: 0.87812 | valid_accuracy: 0.87308 |  1:40:23s\n",
      "epoch 72 | loss: 0.38141 | train_accuracy: 0.87936 | valid_accuracy: 0.87379 |  1:41:31s\n",
      "epoch 73 | loss: 0.37526 | train_accuracy: 0.88291 | valid_accuracy: 0.87675 |  1:42:40s\n",
      "epoch 74 | loss: 0.37027 | train_accuracy: 0.88662 | valid_accuracy: 0.88064 |  1:43:45s\n",
      "epoch 75 | loss: 0.36635 | train_accuracy: 0.88862 | valid_accuracy: 0.88257 |  1:44:52s\n",
      "epoch 76 | loss: 0.36278 | train_accuracy: 0.88856 | valid_accuracy: 0.88326 |  1:46:00s\n",
      "epoch 77 | loss: 0.36134 | train_accuracy: 0.89275 | valid_accuracy: 0.8864  |  1:47:09s\n",
      "epoch 78 | loss: 0.35813 | train_accuracy: 0.896   | valid_accuracy: 0.88915 |  1:48:17s\n",
      "epoch 79 | loss: 0.35527 | train_accuracy: 0.89232 | valid_accuracy: 0.88497 |  1:49:26s\n",
      "epoch 80 | loss: 0.35477 | train_accuracy: 0.89801 | valid_accuracy: 0.8911  |  1:50:33s\n",
      "epoch 81 | loss: 0.34528 | train_accuracy: 0.90108 | valid_accuracy: 0.8941  |  1:51:40s\n",
      "epoch 82 | loss: 0.34125 | train_accuracy: 0.90302 | valid_accuracy: 0.8952  |  1:52:48s\n",
      "epoch 83 | loss: 0.33794 | train_accuracy: 0.90264 | valid_accuracy: 0.89427 |  1:53:55s\n",
      "epoch 84 | loss: 0.33686 | train_accuracy: 0.90149 | valid_accuracy: 0.89463 |  1:55:01s\n",
      "epoch 85 | loss: 0.3358  | train_accuracy: 0.90736 | valid_accuracy: 0.89952 |  1:56:09s\n",
      "epoch 86 | loss: 0.3274  | train_accuracy: 0.90718 | valid_accuracy: 0.89897 |  1:57:17s\n",
      "epoch 87 | loss: 0.32796 | train_accuracy: 0.90762 | valid_accuracy: 0.89973 |  1:58:24s\n",
      "epoch 88 | loss: 0.32622 | train_accuracy: 0.90784 | valid_accuracy: 0.89995 |  1:59:31s\n",
      "epoch 89 | loss: 0.32361 | train_accuracy: 0.91087 | valid_accuracy: 0.90253 |  2:00:38s\n",
      "epoch 90 | loss: 0.31925 | train_accuracy: 0.91333 | valid_accuracy: 0.90479 |  2:01:45s\n",
      "epoch 91 | loss: 0.31643 | train_accuracy: 0.91445 | valid_accuracy: 0.9054  |  2:02:50s\n",
      "epoch 92 | loss: 0.31368 | train_accuracy: 0.91375 | valid_accuracy: 0.90513 |  2:03:58s\n",
      "epoch 93 | loss: 0.32731 | train_accuracy: 0.90881 | valid_accuracy: 0.90133 |  2:05:05s\n",
      "epoch 94 | loss: 0.32229 | train_accuracy: 0.91319 | valid_accuracy: 0.90446 |  2:06:12s\n",
      "epoch 95 | loss: 0.3157  | train_accuracy: 0.91524 | valid_accuracy: 0.9067  |  2:07:20s\n",
      "epoch 96 | loss: 0.3075  | train_accuracy: 0.91649 | valid_accuracy: 0.9084  |  2:08:27s\n",
      "epoch 97 | loss: 0.31105 | train_accuracy: 0.90784 | valid_accuracy: 0.90017 |  2:09:36s\n",
      "epoch 98 | loss: 0.31786 | train_accuracy: 0.91139 | valid_accuracy: 0.90417 |  2:10:41s\n",
      "epoch 99 | loss: 0.31754 | train_accuracy: 0.91166 | valid_accuracy: 0.90364 |  2:11:46s\n",
      "Stop training because you reached max_epochs = 100 with best_epoch = 96 and best_valid_accuracy = 0.9084\n"
     ]
    },
    {
     "name": "stderr",
     "output_type": "stream",
     "text": [
      "/mnt/Dados/Mestrado_Computacao_Aplicada_UFMS/1_semestre/Inteligencia_Artificial/algoritmos-ia/venv/lib/python3.8/site-packages/pytorch_tabnet/callbacks.py:172: UserWarning: Best weights from best epoch are automatically used!\n",
      "  warnings.warn(wrn_msg)\n"
     ]
    }
   ],
   "source": [
    "from pytorch_tabnet.augmentations import ClassificationSMOTE\n",
    "aug = ClassificationSMOTE(p=0.2, device_name='cpu')\n",
    "\n",
    "clf.fit(\n",
    "    X_train=X_train, y_train=y_train,\n",
    "    eval_set=[(X_train, y_train), (X_valid, y_valid)],\n",
    "    eval_name=['train', 'valid'],\n",
    "    max_epochs=max_epochs, patience=100,\n",
    "    batch_size=16384, virtual_batch_size=256,\n",
    "    augmentations=aug\n",
    ")"
   ]
  },
  {
   "cell_type": "code",
   "execution_count": 29,
   "metadata": {},
   "outputs": [
    {
     "data": {
      "text/plain": "[<matplotlib.lines.Line2D at 0x7f279b6329d0>]"
     },
     "execution_count": 29,
     "metadata": {},
     "output_type": "execute_result"
    },
    {
     "data": {
      "text/plain": "<Figure size 432x288 with 1 Axes>",
      "image/png": "[encoded data removed]"
     },
     "metadata": {
      "needs_background": "light"
     },
     "output_type": "display_data"
    }
   ],
   "source": [
    "# plot losses\n",
    "plt.plot(clf.history['loss'])"
   ]
  },
  {
   "cell_type": "code",
   "execution_count": 30,
   "metadata": {},
   "outputs": [
    {
     "data": {
      "text/plain": "[<matplotlib.lines.Line2D at 0x7f279b1c3850>]"
     },
     "execution_count": 30,
     "metadata": {},
     "output_type": "execute_result"
    },
    {
     "data": {
      "text/plain": "<Figure size 432x288 with 1 Axes>",
      "image/png": "[encoded data removed]"
     },
     "metadata": {
      "needs_background": "light"
     },
     "output_type": "display_data"
    }
   ],
   "source": [
    "# plot accuracy\n",
    "plt.plot(clf.history['train_accuracy'])\n",
    "plt.plot(clf.history['valid_accuracy'])"
   ]
  },
  {
   "cell_type": "markdown",
   "metadata": {},
   "source": [
    "### Predictions\n"
   ]
  },
  {
   "cell_type": "code",
   "execution_count": 31,
   "metadata": {},
   "outputs": [
    {
     "name": "stdout",
     "output_type": "stream",
     "text": [
      "BEST VALID SCORE FOR forest-cover-type : 0.9083950250747078\n",
      "FINAL TEST SCORE FOR forest-cover-type : 0.9094773801020628\n"
     ]
    }
   ],
   "source": [
    "# To get final results you may need to use a mapping for classes \n",
    "# as you are allowed to use targets like [\"yes\", \"no\", \"maybe\", \"I don't know\"]\n",
    "\n",
    "preds_mapper = { idx : class_name for idx, class_name in enumerate(clf.classes_)}\n",
    "\n",
    "preds = clf.predict_proba(X_test)\n",
    "\n",
    "y_pred = np.vectorize(preds_mapper.get)(np.argmax(preds, axis=1))\n",
    "\n",
    "test_acc = accuracy_score(y_pred=y_pred, y_true=y_test)\n",
    "\n",
    "print(f\"BEST VALID SCORE FOR {dataset_name} : {clf.best_cost}\")\n",
    "print(f\"FINAL TEST SCORE FOR {dataset_name} : {test_acc}\")"
   ]
  },
  {
   "cell_type": "code",
   "execution_count": 32,
   "metadata": {},
   "outputs": [
    {
     "name": "stdout",
     "output_type": "stream",
     "text": [
      "FINAL TEST SCORE FOR forest-cover-type : 0.9094773801020628\n"
     ]
    }
   ],
   "source": [
    "# or you can simply use the predict method\n",
    "\n",
    "y_pred = clf.predict(X_test)\n",
    "test_acc = accuracy_score(y_pred=y_pred, y_true=y_test)\n",
    "print(f\"FINAL TEST SCORE FOR {dataset_name} : {test_acc}\")"
   ]
  },
  {
   "cell_type": "markdown",
   "metadata": {},
   "source": [
    "# Save and load Model"
   ]
  },
  {
   "cell_type": "code",
   "execution_count": 33,
   "metadata": {},
   "outputs": [
    {
     "name": "stdout",
     "output_type": "stream",
     "text": [
      "Successfully saved model at pickle-objects/test_model.zip\n"
     ]
    }
   ],
   "source": [
    "# save state dict\n",
    "saved_filename = clf.save_model('pickle-objects/test_model')"
   ]
  },
  {
   "cell_type": "code",
   "execution_count": 36,
   "metadata": {},
   "outputs": [
    {
     "name": "stderr",
     "output_type": "stream",
     "text": [
      "/mnt/Dados/Mestrado_Computacao_Aplicada_UFMS/1_semestre/Inteligencia_Artificial/algoritmos-ia/venv/lib/python3.8/site-packages/pytorch_tabnet/abstract_model.py:75: UserWarning: Device used : cpu\n",
      "  warnings.warn(f\"Device used : {self.device}\")\n"
     ]
    }
   ],
   "source": [
    "# define new model and load save parameters\n",
    "loaded_clf = TabNetClassifier(device_name='cpu')\n",
    "loaded_clf.load_model(saved_filename)"
   ]
  },
  {
   "cell_type": "code",
   "execution_count": 37,
   "metadata": {},
   "outputs": [
    {
     "name": "stdout",
     "output_type": "stream",
     "text": [
      "FINAL TEST SCORE FOR forest-cover-type : 0.9094773801020628\n"
     ]
    }
   ],
   "source": [
    "loaded_preds = loaded_clf.predict_proba(X_test)\n",
    "loaded_y_pred = np.vectorize(preds_mapper.get)(np.argmax(loaded_preds, axis=1))\n",
    "\n",
    "loaded_test_acc = accuracy_score(y_pred=loaded_y_pred, y_true=y_test)\n",
    "\n",
    "print(f\"FINAL TEST SCORE FOR {dataset_name} : {loaded_test_acc}\")"
   ]
  },
  {
   "cell_type": "code",
   "execution_count": 40,
   "metadata": {},
   "outputs": [],
   "source": [
    "assert(test_acc == loaded_test_acc)"
   ]
  },
  {
   "cell_type": "markdown",
   "metadata": {},
   "source": [
    "# Global explainability : feat importance summing to 1"
   ]
  },
  {
   "cell_type": "code",
   "execution_count": 41,
   "metadata": {},
   "outputs": [
    {
     "data": {
      "text/plain": "array([2.01958645e-01, 1.66609746e-03, 3.86429835e-04, 1.90659751e-02,\n       9.40442850e-03, 8.66075629e-02, 2.74585758e-03, 2.02519026e-02,\n       2.73639393e-02, 8.13729007e-02, 4.87913581e-02, 1.35040171e-02,\n       4.46456997e-02, 3.62488361e-04, 4.37539780e-03, 5.35739695e-04,\n       1.41431961e-02, 3.60424585e-02, 1.98952435e-02, 4.21030339e-02,\n       9.29946567e-03, 1.22204693e-03, 1.40641038e-02, 8.16384052e-03,\n       7.17684540e-03, 1.82272706e-02, 7.64529761e-03, 4.10679052e-02,\n       1.84712749e-03, 1.57615912e-02, 8.87710330e-04, 1.20906855e-02,\n       3.48736949e-03, 9.37498764e-03, 8.05121807e-03, 2.83181297e-02,\n       2.36659170e-03, 8.12512970e-03, 5.15354305e-03, 2.09016591e-05,\n       2.95132355e-05, 1.95807836e-02, 1.72634042e-03, 1.30144553e-02,\n       1.00441246e-03, 1.62063692e-02, 4.11177788e-02, 4.06054195e-03,\n       1.17140895e-06, 1.79078918e-03, 4.23540381e-03, 2.87692093e-05,\n       8.79516698e-04, 1.87500217e-02])"
     },
     "execution_count": 41,
     "metadata": {},
     "output_type": "execute_result"
    }
   ],
   "source": [
    "clf.feature_importances_"
   ]
  },
  {
   "cell_type": "markdown",
   "metadata": {},
   "source": [
    "# Local explainability and masks"
   ]
  },
  {
   "cell_type": "code",
   "execution_count": 42,
   "metadata": {},
   "outputs": [],
   "source": [
    "explain_matrix, masks = clf.explain(X_test)"
   ]
  },
  {
   "cell_type": "code",
   "execution_count": 43,
   "metadata": {},
   "outputs": [
    {
     "data": {
      "text/plain": "<Figure size 1440x1440 with 5 Axes>",
      "image/png": "[encoded data removed]"
     },
     "metadata": {
      "needs_background": "light"
     },
     "output_type": "display_data"
    }
   ],
   "source": [
    "fig, axs = plt.subplots(1, 5, figsize=(20,20))\n",
    "\n",
    "for i in range(5):\n",
    "    axs[i].imshow(masks[i][:50])\n",
    "    axs[i].set_title(f\"mask {i}\")"
   ]
  },
  {
   "cell_type": "markdown",
   "metadata": {},
   "source": [
    "# XGB"
   ]
  },
  {
   "cell_type": "code",
   "execution_count": 44,
   "metadata": {},
   "outputs": [],
   "source": [
    "n_estimators = 1000 if not os.getenv(\"CI\", False) else 20"
   ]
  },
  {
   "cell_type": "code",
   "execution_count": 45,
   "metadata": {
    "scrolled": true
   },
   "outputs": [
    {
     "ename": "ValueError",
     "evalue": "Invalid classes inferred from unique values of `y`.  Expected: [0 1 2 3 4 5 6], got [1 2 3 4 5 6 7]",
     "output_type": "error",
     "traceback": [
      "\u001B[0;31m---------------------------------------------------------------------------\u001B[0m",
      "\u001B[0;31mValueError\u001B[0m                                Traceback (most recent call last)",
      "\u001B[0;32m<ipython-input-45-d70a37dff5fa>\u001B[0m in \u001B[0;36m<module>\u001B[0;34m\u001B[0m\n\u001B[1;32m     24\u001B[0m     seed=None,)\n\u001B[1;32m     25\u001B[0m \u001B[0;34m\u001B[0m\u001B[0m\n\u001B[0;32m---> 26\u001B[0;31m clf_xgb.fit(X_train, y_train,\n\u001B[0m\u001B[1;32m     27\u001B[0m             \u001B[0meval_set\u001B[0m\u001B[0;34m=\u001B[0m\u001B[0;34m[\u001B[0m\u001B[0;34m(\u001B[0m\u001B[0mX_valid\u001B[0m\u001B[0;34m,\u001B[0m \u001B[0my_valid\u001B[0m\u001B[0;34m)\u001B[0m\u001B[0;34m]\u001B[0m\u001B[0;34m,\u001B[0m\u001B[0;34m\u001B[0m\u001B[0;34m\u001B[0m\u001B[0m\n\u001B[1;32m     28\u001B[0m             \u001B[0mearly_stopping_rounds\u001B[0m\u001B[0;34m=\u001B[0m\u001B[0;36m40\u001B[0m\u001B[0;34m,\u001B[0m\u001B[0;34m\u001B[0m\u001B[0;34m\u001B[0m\u001B[0m\n",
      "\u001B[0;32m/mnt/Dados/Mestrado_Computacao_Aplicada_UFMS/1_semestre/Inteligencia_Artificial/algoritmos-ia/venv/lib/python3.8/site-packages/xgboost/core.py\u001B[0m in \u001B[0;36minner_f\u001B[0;34m(*args, **kwargs)\u001B[0m\n\u001B[1;32m    573\u001B[0m         \u001B[0;32mfor\u001B[0m \u001B[0mk\u001B[0m\u001B[0;34m,\u001B[0m \u001B[0marg\u001B[0m \u001B[0;32min\u001B[0m \u001B[0mzip\u001B[0m\u001B[0;34m(\u001B[0m\u001B[0msig\u001B[0m\u001B[0;34m.\u001B[0m\u001B[0mparameters\u001B[0m\u001B[0;34m,\u001B[0m \u001B[0margs\u001B[0m\u001B[0;34m)\u001B[0m\u001B[0;34m:\u001B[0m\u001B[0;34m\u001B[0m\u001B[0;34m\u001B[0m\u001B[0m\n\u001B[1;32m    574\u001B[0m             \u001B[0mkwargs\u001B[0m\u001B[0;34m[\u001B[0m\u001B[0mk\u001B[0m\u001B[0;34m]\u001B[0m \u001B[0;34m=\u001B[0m \u001B[0marg\u001B[0m\u001B[0;34m\u001B[0m\u001B[0;34m\u001B[0m\u001B[0m\n\u001B[0;32m--> 575\u001B[0;31m         \u001B[0;32mreturn\u001B[0m \u001B[0mf\u001B[0m\u001B[0;34m(\u001B[0m\u001B[0;34m**\u001B[0m\u001B[0mkwargs\u001B[0m\u001B[0;34m)\u001B[0m\u001B[0;34m\u001B[0m\u001B[0;34m\u001B[0m\u001B[0m\n\u001B[0m\u001B[1;32m    576\u001B[0m \u001B[0;34m\u001B[0m\u001B[0m\n\u001B[1;32m    577\u001B[0m     \u001B[0;32mreturn\u001B[0m \u001B[0minner_f\u001B[0m\u001B[0;34m\u001B[0m\u001B[0;34m\u001B[0m\u001B[0m\n",
      "\u001B[0;32m/mnt/Dados/Mestrado_Computacao_Aplicada_UFMS/1_semestre/Inteligencia_Artificial/algoritmos-ia/venv/lib/python3.8/site-packages/xgboost/sklearn.py\u001B[0m in \u001B[0;36mfit\u001B[0;34m(self, X, y, sample_weight, base_margin, eval_set, eval_metric, early_stopping_rounds, verbose, xgb_model, sample_weight_eval_set, base_margin_eval_set, feature_weights, callbacks)\u001B[0m\n\u001B[1;32m   1355\u001B[0m             \u001B[0;32mor\u001B[0m \u001B[0;32mnot\u001B[0m \u001B[0;34m(\u001B[0m\u001B[0mself\u001B[0m\u001B[0;34m.\u001B[0m\u001B[0mclasses_\u001B[0m \u001B[0;34m==\u001B[0m \u001B[0mexpected_classes\u001B[0m\u001B[0;34m)\u001B[0m\u001B[0;34m.\u001B[0m\u001B[0mall\u001B[0m\u001B[0;34m(\u001B[0m\u001B[0;34m)\u001B[0m\u001B[0;34m\u001B[0m\u001B[0;34m\u001B[0m\u001B[0m\n\u001B[1;32m   1356\u001B[0m         ):\n\u001B[0;32m-> 1357\u001B[0;31m             raise ValueError(\n\u001B[0m\u001B[1;32m   1358\u001B[0m                 \u001B[0;34mf\"Invalid classes inferred from unique values of `y`.  \"\u001B[0m\u001B[0;34m\u001B[0m\u001B[0;34m\u001B[0m\u001B[0m\n\u001B[1;32m   1359\u001B[0m                 \u001B[0;34mf\"Expected: {expected_classes}, got {self.classes_}\"\u001B[0m\u001B[0;34m\u001B[0m\u001B[0;34m\u001B[0m\u001B[0m\n",
      "\u001B[0;31mValueError\u001B[0m: Invalid classes inferred from unique values of `y`.  Expected: [0 1 2 3 4 5 6], got [1 2 3 4 5 6 7]"
     ]
    }
   ],
   "source": [
    "from xgboost import XGBClassifier\n",
    "\n",
    "clf_xgb = XGBClassifier(max_depth=8,\n",
    "    learning_rate=0.1,\n",
    "    n_estimators=n_estimators,\n",
    "    verbosity=0,\n",
    "    silent=None,\n",
    "    objective=\"multi:softmax\",\n",
    "    booster='gbtree',\n",
    "    n_jobs=-1,\n",
    "    nthread=None,\n",
    "    gamma=0,\n",
    "    min_child_weight=1,\n",
    "    max_delta_step=0,\n",
    "    subsample=0.7,\n",
    "    colsample_bytree=1,\n",
    "    colsample_bylevel=1,\n",
    "    colsample_bynode=1,\n",
    "    reg_alpha=0,\n",
    "    reg_lambda=1,\n",
    "    scale_pos_weight=1,\n",
    "    base_score=0.5,\n",
    "    random_state=0,\n",
    "    seed=None,)\n",
    "\n",
    "clf_xgb.fit(X_train, y_train,\n",
    "            eval_set=[(X_valid, y_valid)],\n",
    "            early_stopping_rounds=40,\n",
    "            verbose=10)"
   ]
  },
  {
   "cell_type": "code",
   "execution_count": null,
   "metadata": {},
   "outputs": [],
   "source": [
    "preds_valid = np.array(clf_xgb.predict_proba(X_valid, ))\n",
    "valid_acc = accuracy_score(y_pred=np.argmax(preds_valid, axis=1) + 1, y_true=y_valid)\n",
    "print(valid_acc)\n",
    "\n",
    "preds_test = np.array(clf_xgb.predict_proba(X_test))\n",
    "test_acc = accuracy_score(y_pred=np.argmax(preds_test, axis=1) + 1, y_true=y_test)\n",
    "print(test_acc)"
   ]
  },
  {
   "cell_type": "code",
   "execution_count": null,
   "metadata": {},
   "outputs": [],
   "source": []
  }
 ],
 "metadata": {
  "kernelspec": {
   "display_name": "Python 3",
   "language": "python",
   "name": "python3"
  },
  "language_info": {
   "codemirror_mode": {
    "name": "ipython",
    "version": 3
   },
   "file_extension": ".py",
   "mimetype": "text/x-python",
   "name": "python",
   "nbconvert_exporter": "python",
   "pygments_lexer": "ipython3",
   "version": "3.7.13"
  },
  "toc": {
   "base_numbering": 1,
   "nav_menu": {},
   "number_sections": true,
   "sideBar": true,
   "skip_h1_title": false,
   "title_cell": "Table of Contents",
   "title_sidebar": "Contents",
   "toc_cell": false,
   "toc_position": {},
   "toc_section_display": true,
   "toc_window_display": false
  }
 },
 "nbformat": 4,
 "nbformat_minor": 2
}
