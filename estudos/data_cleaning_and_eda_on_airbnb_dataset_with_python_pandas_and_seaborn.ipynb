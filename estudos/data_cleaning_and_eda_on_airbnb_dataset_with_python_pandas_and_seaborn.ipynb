{
 "cells": [
  {
   "cell_type": "markdown",
   "source": [
    "# Data Cleaning and EDA on Airbnb Dataset with Python Pandas and Seaborn\n",
    "\n",
    "Author: Soner Yıldırım\n",
    "\n",
    "Article from [towardsdatascience](https://towardsdatascience.com/data-cleaning-and-eda-on-airbnb-dataset-with-python-pandas-and-seaborn-7c276116b650).\n",
    "\n",
    "> Note: In this notebook, I am studying the article mentioned above. Some changes may have been made to the code during its implementation."
   ],
   "metadata": {
    "collapsed": false
   }
  },
  {
   "cell_type": "markdown",
   "source": [
    "# Library"
   ],
   "metadata": {
    "collapsed": false
   }
  },
  {
   "cell_type": "code",
   "execution_count": 24,
   "outputs": [],
   "source": [
    "import pandas as pd\n",
    "import seaborn as sns\n",
    "import numpy as np"
   ],
   "metadata": {
    "collapsed": false
   }
  },
  {
   "cell_type": "markdown",
   "source": [
    "# Data analysis"
   ],
   "metadata": {
    "collapsed": false
   }
  },
  {
   "cell_type": "code",
   "execution_count": 3,
   "outputs": [
    {
     "name": "stdout",
     "output_type": "stream",
     "text": [
      "(16920, 75)\n"
     ]
    }
   ],
   "source": [
    "listings = pd.read_csv('datasets/listings.csv')\n",
    "print(listings.shape)"
   ],
   "metadata": {
    "collapsed": false
   }
  },
  {
   "cell_type": "code",
   "execution_count": 6,
   "outputs": [
    {
     "data": {
      "text/plain": "                   id                                      listing_url  \\\n0  673276379194656210  https://www.airbnb.com/rooms/673276379194656210   \n1            44192271            https://www.airbnb.com/rooms/44192271   \n2            17039441            https://www.airbnb.com/rooms/17039441   \n3               18674               https://www.airbnb.com/rooms/18674   \n4  553559871868002337  https://www.airbnb.com/rooms/553559871868002337   \n\n        scrape_id last_scraped       source  \\\n0  20220910194401   2022-09-10  city scrape   \n1  20220910194401   2022-09-10  city scrape   \n2  20220910194401   2022-09-10  city scrape   \n3  20220910194401   2022-09-11  city scrape   \n4  20220910194401   2022-09-10  city scrape   \n\n                                                name  \\\n0                          Habitación muy acogedora.   \n1       Cozy terrace apartment Apartamento con patio   \n2  Apart. full equipped. 2 min to Subway lines L1...   \n3    Huge flat for 8 people close to Sagrada Familia   \n4                                  8 lacus, VICTORIA   \n\n                                         description  \\\n0  Abrace la simplicidad en este lugar tranquilo ...   \n1  A private terraced + 2 bedroom ground floor ap...   \n2  Precioso apartamento ideal para parejas. Lumin...   \n3  110m2 apartment to rent in Barcelona. Located ...   \n4  8 apartaments que pretenen recordar la importà...   \n\n                               neighborhood_overview  \\\n0  El barrio es tranquilo y bien hubicado.   Cerc...   \n1  The neighbourhood is quiet with trees. Though ...   \n2  La zona dispone de servicios básicos y una exc...   \n3  Apartment in Barcelona located in the heart of...   \n4                                                NaN   \n\n                                         picture_url    host_id  ...  \\\n0  https://a0.muscache.com/pictures/miso/Hosting-...   51421682  ...   \n1  https://a0.muscache.com/pictures/2e579e6b-b717...  200754964  ...   \n2  https://a0.muscache.com/pictures/02af8b09-c8ca...  114340651  ...   \n3  https://a0.muscache.com/pictures/13031453/413c...      71615  ...   \n4  https://a0.muscache.com/pictures/miso/Hosting-...  442972056  ...   \n\n  review_scores_communication review_scores_location review_scores_value  \\\n0                        4.89                   4.89                4.78   \n1                        4.98                   4.52                4.65   \n2                        4.99                   4.70                4.89   \n3                        4.79                   4.79                4.34   \n4                        4.50                   4.40                4.80   \n\n       license instant_bookable calculated_host_listings_count  \\\n0       Exempt                t                              1   \n1  HUTB-013294                f                              1   \n2          NaN                f                              1   \n3  HUTB-002062                t                             38   \n4  HUTB-009880                t                              8   \n\n  calculated_host_listings_count_entire_homes  \\\n0                                           0   \n1                                           1   \n2                                           1   \n3                                          38   \n4                                           8   \n\n  calculated_host_listings_count_private_rooms  \\\n0                                            1   \n1                                            0   \n2                                            0   \n3                                            0   \n4                                            0   \n\n  calculated_host_listings_count_shared_rooms reviews_per_month  \n0                                           0              9.00  \n1                                           0              2.45  \n2                                           0              2.15  \n3                                           0              0.27  \n4                                           0              1.52  \n\n[5 rows x 75 columns]",
      "text/html": "<div>\n<style scoped>\n    .dataframe tbody tr th:only-of-type {\n        vertical-align: middle;\n    }\n\n    .dataframe tbody tr th {\n        vertical-align: top;\n    }\n\n    .dataframe thead th {\n        text-align: right;\n    }\n</style>\n<table border=\"1\" class=\"dataframe\">\n  <thead>\n    <tr style=\"text-align: right;\">\n      <th></th>\n      <th>id</th>\n      <th>listing_url</th>\n      <th>scrape_id</th>\n      <th>last_scraped</th>\n      <th>source</th>\n      <th>name</th>\n      <th>description</th>\n      <th>neighborhood_overview</th>\n      <th>picture_url</th>\n      <th>host_id</th>\n      <th>...</th>\n      <th>review_scores_communication</th>\n      <th>review_scores_location</th>\n      <th>review_scores_value</th>\n      <th>license</th>\n      <th>instant_bookable</th>\n      <th>calculated_host_listings_count</th>\n      <th>calculated_host_listings_count_entire_homes</th>\n      <th>calculated_host_listings_count_private_rooms</th>\n      <th>calculated_host_listings_count_shared_rooms</th>\n      <th>reviews_per_month</th>\n    </tr>\n  </thead>\n  <tbody>\n    <tr>\n      <th>0</th>\n      <td>673276379194656210</td>\n      <td>https://www.airbnb.com/rooms/673276379194656210</td>\n      <td>20220910194401</td>\n      <td>2022-09-10</td>\n      <td>city scrape</td>\n      <td>Habitación muy acogedora.</td>\n      <td>Abrace la simplicidad en este lugar tranquilo ...</td>\n      <td>El barrio es tranquilo y bien hubicado.   Cerc...</td>\n      <td>https://a0.muscache.com/pictures/miso/Hosting-...</td>\n      <td>51421682</td>\n      <td>...</td>\n      <td>4.89</td>\n      <td>4.89</td>\n      <td>4.78</td>\n      <td>Exempt</td>\n      <td>t</td>\n      <td>1</td>\n      <td>0</td>\n      <td>1</td>\n      <td>0</td>\n      <td>9.00</td>\n    </tr>\n    <tr>\n      <th>1</th>\n      <td>44192271</td>\n      <td>https://www.airbnb.com/rooms/44192271</td>\n      <td>20220910194401</td>\n      <td>2022-09-10</td>\n      <td>city scrape</td>\n      <td>Cozy terrace apartment Apartamento con patio</td>\n      <td>A private terraced + 2 bedroom ground floor ap...</td>\n      <td>The neighbourhood is quiet with trees. Though ...</td>\n      <td>https://a0.muscache.com/pictures/2e579e6b-b717...</td>\n      <td>200754964</td>\n      <td>...</td>\n      <td>4.98</td>\n      <td>4.52</td>\n      <td>4.65</td>\n      <td>HUTB-013294</td>\n      <td>f</td>\n      <td>1</td>\n      <td>1</td>\n      <td>0</td>\n      <td>0</td>\n      <td>2.45</td>\n    </tr>\n    <tr>\n      <th>2</th>\n      <td>17039441</td>\n      <td>https://www.airbnb.com/rooms/17039441</td>\n      <td>20220910194401</td>\n      <td>2022-09-10</td>\n      <td>city scrape</td>\n      <td>Apart. full equipped. 2 min to Subway lines L1...</td>\n      <td>Precioso apartamento ideal para parejas. Lumin...</td>\n      <td>La zona dispone de servicios básicos y una exc...</td>\n      <td>https://a0.muscache.com/pictures/02af8b09-c8ca...</td>\n      <td>114340651</td>\n      <td>...</td>\n      <td>4.99</td>\n      <td>4.70</td>\n      <td>4.89</td>\n      <td>NaN</td>\n      <td>f</td>\n      <td>1</td>\n      <td>1</td>\n      <td>0</td>\n      <td>0</td>\n      <td>2.15</td>\n    </tr>\n    <tr>\n      <th>3</th>\n      <td>18674</td>\n      <td>https://www.airbnb.com/rooms/18674</td>\n      <td>20220910194401</td>\n      <td>2022-09-11</td>\n      <td>city scrape</td>\n      <td>Huge flat for 8 people close to Sagrada Familia</td>\n      <td>110m2 apartment to rent in Barcelona. Located ...</td>\n      <td>Apartment in Barcelona located in the heart of...</td>\n      <td>https://a0.muscache.com/pictures/13031453/413c...</td>\n      <td>71615</td>\n      <td>...</td>\n      <td>4.79</td>\n      <td>4.79</td>\n      <td>4.34</td>\n      <td>HUTB-002062</td>\n      <td>t</td>\n      <td>38</td>\n      <td>38</td>\n      <td>0</td>\n      <td>0</td>\n      <td>0.27</td>\n    </tr>\n    <tr>\n      <th>4</th>\n      <td>553559871868002337</td>\n      <td>https://www.airbnb.com/rooms/553559871868002337</td>\n      <td>20220910194401</td>\n      <td>2022-09-10</td>\n      <td>city scrape</td>\n      <td>8 lacus, VICTORIA</td>\n      <td>8 apartaments que pretenen recordar la importà...</td>\n      <td>NaN</td>\n      <td>https://a0.muscache.com/pictures/miso/Hosting-...</td>\n      <td>442972056</td>\n      <td>...</td>\n      <td>4.50</td>\n      <td>4.40</td>\n      <td>4.80</td>\n      <td>HUTB-009880</td>\n      <td>t</td>\n      <td>8</td>\n      <td>8</td>\n      <td>0</td>\n      <td>0</td>\n      <td>1.52</td>\n    </tr>\n  </tbody>\n</table>\n<p>5 rows × 75 columns</p>\n</div>"
     },
     "execution_count": 6,
     "metadata": {},
     "output_type": "execute_result"
    }
   ],
   "source": [
    "listings.head()"
   ],
   "metadata": {
    "collapsed": false
   }
  },
  {
   "cell_type": "code",
   "execution_count": 7,
   "outputs": [
    {
     "data": {
      "text/plain": "price                   object\nhost_response_rate      object\nhost_acceptance_rate    object\ndtype: object"
     },
     "execution_count": 7,
     "metadata": {},
     "output_type": "execute_result"
    }
   ],
   "source": [
    "listings[\n",
    "    [\"price\",\"host_response_rate\",\"host_acceptance_rate\"]\n",
    "].dtypes"
   ],
   "metadata": {
    "collapsed": false
   }
  },
  {
   "cell_type": "code",
   "execution_count": 8,
   "outputs": [
    {
     "data": {
      "text/plain": "     price host_response_rate host_acceptance_rate\n0   $59.00               100%                 100%\n1  $110.00               100%                 100%\n2   $86.00               100%                  97%\n3  $180.00                98%                  93%\n4  $110.00               100%                 100%",
      "text/html": "<div>\n<style scoped>\n    .dataframe tbody tr th:only-of-type {\n        vertical-align: middle;\n    }\n\n    .dataframe tbody tr th {\n        vertical-align: top;\n    }\n\n    .dataframe thead th {\n        text-align: right;\n    }\n</style>\n<table border=\"1\" class=\"dataframe\">\n  <thead>\n    <tr style=\"text-align: right;\">\n      <th></th>\n      <th>price</th>\n      <th>host_response_rate</th>\n      <th>host_acceptance_rate</th>\n    </tr>\n  </thead>\n  <tbody>\n    <tr>\n      <th>0</th>\n      <td>$59.00</td>\n      <td>100%</td>\n      <td>100%</td>\n    </tr>\n    <tr>\n      <th>1</th>\n      <td>$110.00</td>\n      <td>100%</td>\n      <td>100%</td>\n    </tr>\n    <tr>\n      <th>2</th>\n      <td>$86.00</td>\n      <td>100%</td>\n      <td>97%</td>\n    </tr>\n    <tr>\n      <th>3</th>\n      <td>$180.00</td>\n      <td>98%</td>\n      <td>93%</td>\n    </tr>\n    <tr>\n      <th>4</th>\n      <td>$110.00</td>\n      <td>100%</td>\n      <td>100%</td>\n    </tr>\n  </tbody>\n</table>\n</div>"
     },
     "execution_count": 8,
     "metadata": {},
     "output_type": "execute_result"
    }
   ],
   "source": [
    "listings[\n",
    "    [\"price\",\"host_response_rate\",\"host_acceptance_rate\"]\n",
    "].head()"
   ],
   "metadata": {
    "collapsed": false
   }
  },
  {
   "cell_type": "code",
   "execution_count": 9,
   "outputs": [],
   "source": [
    "listings['price'] = listings['price'].str[1:].str.replace(',','').astype('float')\n",
    "listings[\"host_response_rate\"] = listings[\"host_response_rate\"].str[:-1].astype(\"float\") / 100\n",
    "listings[\"host_acceptance_rate\"] = listings[\"host_acceptance_rate\"].str[:-1].astype(\"float\") / 100"
   ],
   "metadata": {
    "collapsed": false
   }
  },
  {
   "cell_type": "code",
   "execution_count": 10,
   "outputs": [
    {
     "data": {
      "text/plain": "   price  host_response_rate  host_acceptance_rate\n0   59.0                1.00                  1.00\n1  110.0                1.00                  1.00\n2   86.0                1.00                  0.97\n3  180.0                0.98                  0.93\n4  110.0                1.00                  1.00",
      "text/html": "<div>\n<style scoped>\n    .dataframe tbody tr th:only-of-type {\n        vertical-align: middle;\n    }\n\n    .dataframe tbody tr th {\n        vertical-align: top;\n    }\n\n    .dataframe thead th {\n        text-align: right;\n    }\n</style>\n<table border=\"1\" class=\"dataframe\">\n  <thead>\n    <tr style=\"text-align: right;\">\n      <th></th>\n      <th>price</th>\n      <th>host_response_rate</th>\n      <th>host_acceptance_rate</th>\n    </tr>\n  </thead>\n  <tbody>\n    <tr>\n      <th>0</th>\n      <td>59.0</td>\n      <td>1.00</td>\n      <td>1.00</td>\n    </tr>\n    <tr>\n      <th>1</th>\n      <td>110.0</td>\n      <td>1.00</td>\n      <td>1.00</td>\n    </tr>\n    <tr>\n      <th>2</th>\n      <td>86.0</td>\n      <td>1.00</td>\n      <td>0.97</td>\n    </tr>\n    <tr>\n      <th>3</th>\n      <td>180.0</td>\n      <td>0.98</td>\n      <td>0.93</td>\n    </tr>\n    <tr>\n      <th>4</th>\n      <td>110.0</td>\n      <td>1.00</td>\n      <td>1.00</td>\n    </tr>\n  </tbody>\n</table>\n</div>"
     },
     "execution_count": 10,
     "metadata": {},
     "output_type": "execute_result"
    }
   ],
   "source": [
    "listings[\n",
    "    [\"price\",\"host_response_rate\",\"host_acceptance_rate\"]\n",
    "].head()"
   ],
   "metadata": {
    "collapsed": false
   }
  },
  {
   "cell_type": "code",
   "execution_count": 11,
   "outputs": [
    {
     "data": {
      "text/plain": "  bathrooms_text\n0  1 shared bath\n1         1 bath\n2         1 bath\n3        2 baths\n4         1 bath",
      "text/html": "<div>\n<style scoped>\n    .dataframe tbody tr th:only-of-type {\n        vertical-align: middle;\n    }\n\n    .dataframe tbody tr th {\n        vertical-align: top;\n    }\n\n    .dataframe thead th {\n        text-align: right;\n    }\n</style>\n<table border=\"1\" class=\"dataframe\">\n  <thead>\n    <tr style=\"text-align: right;\">\n      <th></th>\n      <th>bathrooms_text</th>\n    </tr>\n  </thead>\n  <tbody>\n    <tr>\n      <th>0</th>\n      <td>1 shared bath</td>\n    </tr>\n    <tr>\n      <th>1</th>\n      <td>1 bath</td>\n    </tr>\n    <tr>\n      <th>2</th>\n      <td>1 bath</td>\n    </tr>\n    <tr>\n      <th>3</th>\n      <td>2 baths</td>\n    </tr>\n    <tr>\n      <th>4</th>\n      <td>1 bath</td>\n    </tr>\n  </tbody>\n</table>\n</div>"
     },
     "execution_count": 11,
     "metadata": {},
     "output_type": "execute_result"
    }
   ],
   "source": [
    "listings[[\"bathrooms_text\"]].head()"
   ],
   "metadata": {
    "collapsed": false
   }
  },
  {
   "cell_type": "code",
   "execution_count": 12,
   "outputs": [],
   "source": [
    "listings[\"bathroom_qty\"] = listings[\"bathrooms_text\"].str.split(\" \", expand=True)[0]\n",
    "listings[\"bathroom_type\"] = listings[\"bathrooms_text\"].str.split(\" \", expand=True)[1]"
   ],
   "metadata": {
    "collapsed": false
   }
  },
  {
   "cell_type": "code",
   "execution_count": 13,
   "outputs": [
    {
     "data": {
      "text/plain": "  bathrooms_text bathroom_qty bathroom_type\n0  1 shared bath            1        shared\n1         1 bath            1          bath\n2         1 bath            1          bath\n3        2 baths            2         baths\n4         1 bath            1          bath",
      "text/html": "<div>\n<style scoped>\n    .dataframe tbody tr th:only-of-type {\n        vertical-align: middle;\n    }\n\n    .dataframe tbody tr th {\n        vertical-align: top;\n    }\n\n    .dataframe thead th {\n        text-align: right;\n    }\n</style>\n<table border=\"1\" class=\"dataframe\">\n  <thead>\n    <tr style=\"text-align: right;\">\n      <th></th>\n      <th>bathrooms_text</th>\n      <th>bathroom_qty</th>\n      <th>bathroom_type</th>\n    </tr>\n  </thead>\n  <tbody>\n    <tr>\n      <th>0</th>\n      <td>1 shared bath</td>\n      <td>1</td>\n      <td>shared</td>\n    </tr>\n    <tr>\n      <th>1</th>\n      <td>1 bath</td>\n      <td>1</td>\n      <td>bath</td>\n    </tr>\n    <tr>\n      <th>2</th>\n      <td>1 bath</td>\n      <td>1</td>\n      <td>bath</td>\n    </tr>\n    <tr>\n      <th>3</th>\n      <td>2 baths</td>\n      <td>2</td>\n      <td>baths</td>\n    </tr>\n    <tr>\n      <th>4</th>\n      <td>1 bath</td>\n      <td>1</td>\n      <td>bath</td>\n    </tr>\n  </tbody>\n</table>\n</div>"
     },
     "execution_count": 13,
     "metadata": {},
     "output_type": "execute_result"
    }
   ],
   "source": [
    "listings[\n",
    "    [\"bathrooms_text\",\"bathroom_qty\",\"bathroom_type\"]\n",
    "].head()"
   ],
   "metadata": {
    "collapsed": false
   }
  },
  {
   "cell_type": "code",
   "execution_count": 20,
   "outputs": [
    {
     "data": {
      "text/plain": "<seaborn.axisgrid.FacetGrid at 0x7fcc5c30c7c0>"
     },
     "execution_count": 20,
     "metadata": {},
     "output_type": "execute_result"
    },
    {
     "data": {
      "text/plain": "<Figure size 540x360 with 1 Axes>",
      "image/png": "[encoded data removed]"
     },
     "metadata": {
      "needs_background": "light"
     },
     "output_type": "display_data"
    }
   ],
   "source": [
    "sns.displot(data=listings, x=\"price\", kind=\"hist\", aspect=1.5)"
   ],
   "metadata": {
    "collapsed": false
   }
  },
  {
   "cell_type": "code",
   "execution_count": 29,
   "outputs": [
    {
     "data": {
      "text/plain": "<seaborn.axisgrid.FacetGrid at 0x7fcc2a45ed30>"
     },
     "execution_count": 29,
     "metadata": {},
     "output_type": "execute_result"
    },
    {
     "data": {
      "text/plain": "<Figure size 540x360 with 1 Axes>",
      "image/png": "[encoded data removed]"
     },
     "metadata": {
      "needs_background": "light"
     },
     "output_type": "display_data"
    }
   ],
   "source": [
    "listings = listings[listings.price!=0]\n",
    "listings.loc[:,\"log_price\"] = np.log(listings.loc[:,\"price\"])\n",
    "sns.displot(data=listings, x=\"log_price\", kind=\"hist\", aspect=1.5)"
   ],
   "metadata": {
    "collapsed": false
   }
  },
  {
   "cell_type": "code",
   "execution_count": 41,
   "outputs": [
    {
     "data": {
      "text/plain": "  host_identity_verified   avg_price    qty\n0                      f  170.477080   2356\n1                      t  173.337958  14561",
      "text/html": "<div>\n<style scoped>\n    .dataframe tbody tr th:only-of-type {\n        vertical-align: middle;\n    }\n\n    .dataframe tbody tr th {\n        vertical-align: top;\n    }\n\n    .dataframe thead th {\n        text-align: right;\n    }\n</style>\n<table border=\"1\" class=\"dataframe\">\n  <thead>\n    <tr style=\"text-align: right;\">\n      <th></th>\n      <th>host_identity_verified</th>\n      <th>avg_price</th>\n      <th>qty</th>\n    </tr>\n  </thead>\n  <tbody>\n    <tr>\n      <th>0</th>\n      <td>f</td>\n      <td>170.477080</td>\n      <td>2356</td>\n    </tr>\n    <tr>\n      <th>1</th>\n      <td>t</td>\n      <td>173.337958</td>\n      <td>14561</td>\n    </tr>\n  </tbody>\n</table>\n</div>"
     },
     "execution_count": 41,
     "metadata": {},
     "output_type": "execute_result"
    }
   ],
   "source": [
    "listings.groupby(\n",
    "    [\"host_identity_verified\"],\n",
    "    as_index=False\n",
    ").agg(\n",
    "    avg_price = (\"price\",\"mean\"),\n",
    "    qty = (\"price\",\"count\")\n",
    ")"
   ],
   "metadata": {
    "collapsed": false
   }
  },
  {
   "cell_type": "code",
   "execution_count": 42,
   "outputs": [
    {
     "data": {
      "text/plain": "   host_response_time   avg_price    qty\n0  a few days or more  288.022901    393\n1        within a day  198.139592   1225\n2      within an hour  170.563783  10034\n3  within a few hours  144.893240   2426",
      "text/html": "<div>\n<style scoped>\n    .dataframe tbody tr th:only-of-type {\n        vertical-align: middle;\n    }\n\n    .dataframe tbody tr th {\n        vertical-align: top;\n    }\n\n    .dataframe thead th {\n        text-align: right;\n    }\n</style>\n<table border=\"1\" class=\"dataframe\">\n  <thead>\n    <tr style=\"text-align: right;\">\n      <th></th>\n      <th>host_response_time</th>\n      <th>avg_price</th>\n      <th>qty</th>\n    </tr>\n  </thead>\n  <tbody>\n    <tr>\n      <th>0</th>\n      <td>a few days or more</td>\n      <td>288.022901</td>\n      <td>393</td>\n    </tr>\n    <tr>\n      <th>1</th>\n      <td>within a day</td>\n      <td>198.139592</td>\n      <td>1225</td>\n    </tr>\n    <tr>\n      <th>2</th>\n      <td>within an hour</td>\n      <td>170.563783</td>\n      <td>10034</td>\n    </tr>\n    <tr>\n      <th>3</th>\n      <td>within a few hours</td>\n      <td>144.893240</td>\n      <td>2426</td>\n    </tr>\n  </tbody>\n</table>\n</div>"
     },
     "execution_count": 42,
     "metadata": {},
     "output_type": "execute_result"
    }
   ],
   "source": [
    "listings.groupby(\n",
    "    [\"host_response_time\"], as_index=False\n",
    ").agg(\n",
    "    avg_price = (\"price\",\"mean\"),\n",
    "    qty = (\"price\",\"count\")\n",
    ").sort_values(\n",
    "    by=\"avg_price\", ascending=False\n",
    ").reset_index(drop=True)"
   ],
   "metadata": {
    "collapsed": false
   }
  },
  {
   "cell_type": "code",
   "execution_count": 43,
   "outputs": [
    {
     "data": {
      "text/plain": "<seaborn.axisgrid.FacetGrid at 0x7fcb8b3e0a00>"
     },
     "execution_count": 43,
     "metadata": {},
     "output_type": "execute_result"
    },
    {
     "data": {
      "text/plain": "<Figure size 777.6x432 with 1 Axes>",
      "image/png": "[encoded data removed]"
     },
     "metadata": {
      "needs_background": "light"
     },
     "output_type": "display_data"
    }
   ],
   "source": [
    "sns.catplot(\n",
    "    data=listings,\n",
    "    x='accommodates', y='log_price', kind='box',\n",
    "    height=6, aspect=1.8, width=0.5\n",
    ")"
   ],
   "metadata": {
    "collapsed": false
   }
  },
  {
   "cell_type": "code",
   "execution_count": 44,
   "outputs": [
    {
     "data": {
      "text/plain": "                  availability_30  availability_60  availability_90  \\\navailability_30          1.000000         0.903975         0.803245   \navailability_60          0.903975         1.000000         0.951351   \navailability_90          0.803245         0.951351         1.000000   \navailability_365         0.415334         0.506266         0.590606   \nlog_price                0.380470         0.419906         0.452610   \n\n                  availability_365  log_price  \navailability_30           0.415334   0.380470  \navailability_60           0.506266   0.419906  \navailability_90           0.590606   0.452610  \navailability_365          1.000000   0.284108  \nlog_price                 0.284108   1.000000  ",
      "text/html": "<div>\n<style scoped>\n    .dataframe tbody tr th:only-of-type {\n        vertical-align: middle;\n    }\n\n    .dataframe tbody tr th {\n        vertical-align: top;\n    }\n\n    .dataframe thead th {\n        text-align: right;\n    }\n</style>\n<table border=\"1\" class=\"dataframe\">\n  <thead>\n    <tr style=\"text-align: right;\">\n      <th></th>\n      <th>availability_30</th>\n      <th>availability_60</th>\n      <th>availability_90</th>\n      <th>availability_365</th>\n      <th>log_price</th>\n    </tr>\n  </thead>\n  <tbody>\n    <tr>\n      <th>availability_30</th>\n      <td>1.000000</td>\n      <td>0.903975</td>\n      <td>0.803245</td>\n      <td>0.415334</td>\n      <td>0.380470</td>\n    </tr>\n    <tr>\n      <th>availability_60</th>\n      <td>0.903975</td>\n      <td>1.000000</td>\n      <td>0.951351</td>\n      <td>0.506266</td>\n      <td>0.419906</td>\n    </tr>\n    <tr>\n      <th>availability_90</th>\n      <td>0.803245</td>\n      <td>0.951351</td>\n      <td>1.000000</td>\n      <td>0.590606</td>\n      <td>0.452610</td>\n    </tr>\n    <tr>\n      <th>availability_365</th>\n      <td>0.415334</td>\n      <td>0.506266</td>\n      <td>0.590606</td>\n      <td>1.000000</td>\n      <td>0.284108</td>\n    </tr>\n    <tr>\n      <th>log_price</th>\n      <td>0.380470</td>\n      <td>0.419906</td>\n      <td>0.452610</td>\n      <td>0.284108</td>\n      <td>1.000000</td>\n    </tr>\n  </tbody>\n</table>\n</div>"
     },
     "execution_count": 44,
     "metadata": {},
     "output_type": "execute_result"
    }
   ],
   "source": [
    "listings[[\n",
    "    'availability_30', 'availability_60',\n",
    "    'availability_90', 'availability_365',\n",
    "    'log_price'\n",
    "]].corr()"
   ],
   "metadata": {
    "collapsed": false
   }
  },
  {
   "cell_type": "code",
   "execution_count": 45,
   "outputs": [
    {
     "data": {
      "text/plain": "  instant_bookable   avg_price   qty\n0                f  145.820833  8160\n1                t  198.175591  8759",
      "text/html": "<div>\n<style scoped>\n    .dataframe tbody tr th:only-of-type {\n        vertical-align: middle;\n    }\n\n    .dataframe tbody tr th {\n        vertical-align: top;\n    }\n\n    .dataframe thead th {\n        text-align: right;\n    }\n</style>\n<table border=\"1\" class=\"dataframe\">\n  <thead>\n    <tr style=\"text-align: right;\">\n      <th></th>\n      <th>instant_bookable</th>\n      <th>avg_price</th>\n      <th>qty</th>\n    </tr>\n  </thead>\n  <tbody>\n    <tr>\n      <th>0</th>\n      <td>f</td>\n      <td>145.820833</td>\n      <td>8160</td>\n    </tr>\n    <tr>\n      <th>1</th>\n      <td>t</td>\n      <td>198.175591</td>\n      <td>8759</td>\n    </tr>\n  </tbody>\n</table>\n</div>"
     },
     "execution_count": 45,
     "metadata": {},
     "output_type": "execute_result"
    }
   ],
   "source": [
    "listings.groupby(\n",
    "    ['instant_bookable'], as_index=False\n",
    ").agg(\n",
    "    avg_price = (\"price\",\"mean\"),\n",
    "    qty = (\"price\",\"count\")\n",
    ")"
   ],
   "metadata": {
    "collapsed": false
   }
  },
  {
   "cell_type": "code",
   "execution_count": 46,
   "outputs": [
    {
     "data": {
      "text/plain": "<seaborn.axisgrid.FacetGrid at 0x7fcb8b645c70>"
     },
     "execution_count": 46,
     "metadata": {},
     "output_type": "execute_result"
    },
    {
     "data": {
      "text/plain": "<Figure size 777.6x432 with 1 Axes>",
      "image/png": "[encoded data removed]"
     },
     "metadata": {
      "needs_background": "light"
     },
     "output_type": "display_data"
    }
   ],
   "source": [
    "sns.catplot(\n",
    "    data=listings,\n",
    "    x='room_type', y='log_price', kind='box',\n",
    "    height=6, aspect=1.8, width=0.5\n",
    ")"
   ],
   "metadata": {
    "collapsed": false
   }
  },
  {
   "cell_type": "code",
   "execution_count": 48,
   "outputs": [
    {
     "data": {
      "text/plain": "0        [\"Ethernet connection\", \"Hangers\", \"Hot water ...\n1        [\"Fire extinguisher\", \"Stove\", \"Air conditioni...\n2        [\"Stove\", \"Cooking basics\", \"Security cameras ...\n3        [\"Kitchen\", \"Hot water\", \"Host greets you\", \"L...\n4        [\"Kitchen\", \"Long term stays allowed\", \"Fire e...\n                               ...                        \n16915    [\"Fire extinguisher\", \"Stove\", \"Air conditioni...\n16916    [\"Fire extinguisher\", \"Stove\", \"Air conditioni...\n16917    [\"Fire extinguisher\", \"Stove\", \"Air conditioni...\n16918    [\"Cable TV\", \"Fire extinguisher\", \"Cooking bas...\n16919    [\"Cable TV\", \"Fire extinguisher\", \"Mini fridge...\nName: amenities, Length: 16919, dtype: object"
     },
     "execution_count": 48,
     "metadata": {},
     "output_type": "execute_result"
    }
   ],
   "source": [
    "listings.amenities"
   ],
   "metadata": {
    "collapsed": false
   }
  },
  {
   "cell_type": "code",
   "execution_count": 47,
   "outputs": [],
   "source": [
    "listings.loc[:,\"has_coffee_maker\"] = ['coffee maker' in row.lower() for row in listings.amenities]"
   ],
   "metadata": {
    "collapsed": false
   }
  },
  {
   "cell_type": "code",
   "execution_count": 50,
   "outputs": [
    {
     "data": {
      "text/plain": "True     9845\nFalse    7074\nName: has_coffee_maker, dtype: int64"
     },
     "execution_count": 50,
     "metadata": {},
     "output_type": "execute_result"
    }
   ],
   "source": [
    "listings.has_coffee_maker.value_counts()"
   ],
   "metadata": {
    "collapsed": false
   }
  },
  {
   "cell_type": "code",
   "execution_count": 51,
   "outputs": [
    {
     "data": {
      "text/plain": "                   avg_price\nhas_coffee_maker            \nFalse             167.090472\nTrue              177.117318",
      "text/html": "<div>\n<style scoped>\n    .dataframe tbody tr th:only-of-type {\n        vertical-align: middle;\n    }\n\n    .dataframe tbody tr th {\n        vertical-align: top;\n    }\n\n    .dataframe thead th {\n        text-align: right;\n    }\n</style>\n<table border=\"1\" class=\"dataframe\">\n  <thead>\n    <tr style=\"text-align: right;\">\n      <th></th>\n      <th>avg_price</th>\n    </tr>\n    <tr>\n      <th>has_coffee_maker</th>\n      <th></th>\n    </tr>\n  </thead>\n  <tbody>\n    <tr>\n      <th>False</th>\n      <td>167.090472</td>\n    </tr>\n    <tr>\n      <th>True</th>\n      <td>177.117318</td>\n    </tr>\n  </tbody>\n</table>\n</div>"
     },
     "execution_count": 51,
     "metadata": {},
     "output_type": "execute_result"
    }
   ],
   "source": [
    "listings.groupby(\n",
    "    [\"has_coffee_maker\"]\n",
    ").agg(\n",
    "    avg_price = (\"price\", \"mean\")\n",
    ")"
   ],
   "metadata": {
    "collapsed": false
   }
  },
  {
   "cell_type": "code",
   "execution_count": 52,
   "outputs": [
    {
     "data": {
      "text/plain": "  neighbourhood_group_cleansed   avg_price   qty\n0               Horta-Guinardó  252.250569   439\n1                    Les Corts  229.988079   755\n2                     Eixample  212.082045  5692\n3          Sarrià-Sant Gervasi  170.245517   725\n4               Sants-Montjuïc  155.918453  2146\n5                   Sant Martí  150.015244  1640\n6                 Ciutat Vella  137.098508  3553\n7                       Gràcia  134.326761  1420\n8                  Sant Andreu  110.316667   360\n9                   Nou Barris   66.375661   189",
      "text/html": "<div>\n<style scoped>\n    .dataframe tbody tr th:only-of-type {\n        vertical-align: middle;\n    }\n\n    .dataframe tbody tr th {\n        vertical-align: top;\n    }\n\n    .dataframe thead th {\n        text-align: right;\n    }\n</style>\n<table border=\"1\" class=\"dataframe\">\n  <thead>\n    <tr style=\"text-align: right;\">\n      <th></th>\n      <th>neighbourhood_group_cleansed</th>\n      <th>avg_price</th>\n      <th>qty</th>\n    </tr>\n  </thead>\n  <tbody>\n    <tr>\n      <th>0</th>\n      <td>Horta-Guinardó</td>\n      <td>252.250569</td>\n      <td>439</td>\n    </tr>\n    <tr>\n      <th>1</th>\n      <td>Les Corts</td>\n      <td>229.988079</td>\n      <td>755</td>\n    </tr>\n    <tr>\n      <th>2</th>\n      <td>Eixample</td>\n      <td>212.082045</td>\n      <td>5692</td>\n    </tr>\n    <tr>\n      <th>3</th>\n      <td>Sarrià-Sant Gervasi</td>\n      <td>170.245517</td>\n      <td>725</td>\n    </tr>\n    <tr>\n      <th>4</th>\n      <td>Sants-Montjuïc</td>\n      <td>155.918453</td>\n      <td>2146</td>\n    </tr>\n    <tr>\n      <th>5</th>\n      <td>Sant Martí</td>\n      <td>150.015244</td>\n      <td>1640</td>\n    </tr>\n    <tr>\n      <th>6</th>\n      <td>Ciutat Vella</td>\n      <td>137.098508</td>\n      <td>3553</td>\n    </tr>\n    <tr>\n      <th>7</th>\n      <td>Gràcia</td>\n      <td>134.326761</td>\n      <td>1420</td>\n    </tr>\n    <tr>\n      <th>8</th>\n      <td>Sant Andreu</td>\n      <td>110.316667</td>\n      <td>360</td>\n    </tr>\n    <tr>\n      <th>9</th>\n      <td>Nou Barris</td>\n      <td>66.375661</td>\n      <td>189</td>\n    </tr>\n  </tbody>\n</table>\n</div>"
     },
     "execution_count": 52,
     "metadata": {},
     "output_type": "execute_result"
    }
   ],
   "source": [
    "listings.groupby(\n",
    "    [\"neighbourhood_group_cleansed\"], as_index=False\n",
    ").agg(\n",
    "    avg_price = (\"price\", \"mean\"),\n",
    "    qty = (\"price\", \"count\")\n",
    ").sort_values(\n",
    "    by=\"avg_price\", ascending=False\n",
    ").reset_index(drop=True)"
   ],
   "metadata": {
    "collapsed": false
   }
  },
  {
   "cell_type": "code",
   "execution_count": 53,
   "outputs": [
    {
     "data": {
      "text/plain": "                             avg_price  qty\nneighbourhood_cleansed                     \nla Maternitat i Sant Ramon  247.421756  524\nles Corts                   207.794444  180\nPedralbes                   129.196078   51",
      "text/html": "<div>\n<style scoped>\n    .dataframe tbody tr th:only-of-type {\n        vertical-align: middle;\n    }\n\n    .dataframe tbody tr th {\n        vertical-align: top;\n    }\n\n    .dataframe thead th {\n        text-align: right;\n    }\n</style>\n<table border=\"1\" class=\"dataframe\">\n  <thead>\n    <tr style=\"text-align: right;\">\n      <th></th>\n      <th>avg_price</th>\n      <th>qty</th>\n    </tr>\n    <tr>\n      <th>neighbourhood_cleansed</th>\n      <th></th>\n      <th></th>\n    </tr>\n  </thead>\n  <tbody>\n    <tr>\n      <th>la Maternitat i Sant Ramon</th>\n      <td>247.421756</td>\n      <td>524</td>\n    </tr>\n    <tr>\n      <th>les Corts</th>\n      <td>207.794444</td>\n      <td>180</td>\n    </tr>\n    <tr>\n      <th>Pedralbes</th>\n      <td>129.196078</td>\n      <td>51</td>\n    </tr>\n  </tbody>\n</table>\n</div>"
     },
     "execution_count": 53,
     "metadata": {},
     "output_type": "execute_result"
    }
   ],
   "source": [
    "listings[listings.neighbourhood_group_cleansed==\"Les Corts\"].groupby(\n",
    "    [\"neighbourhood_cleansed\"]\n",
    ").agg(\n",
    "    avg_price = (\"price\", \"mean\"),\n",
    "    qty = (\"price\", \"count\")\n",
    ").sort_values(\n",
    "    by=\"avg_price\", ascending=False\n",
    ")"
   ],
   "metadata": {
    "collapsed": false
   }
  }
 ],
 "metadata": {
  "kernelspec": {
   "display_name": "Python 3",
   "language": "python",
   "name": "python3"
  },
  "language_info": {
   "codemirror_mode": {
    "name": "ipython",
    "version": 2
   },
   "file_extension": ".py",
   "mimetype": "text/x-python",
   "name": "python",
   "nbconvert_exporter": "python",
   "pygments_lexer": "ipython2",
   "version": "2.7.6"
  }
 },
 "nbformat": 4,
 "nbformat_minor": 0
}
