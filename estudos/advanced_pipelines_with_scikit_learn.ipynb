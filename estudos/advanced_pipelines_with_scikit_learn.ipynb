{
 "cells": [
  {
   "cell_type": "markdown",
   "source": [
    "# Advanced Pipelines with scikit-learn\n",
    "\n",
    "Author: Konstantin Rink\n",
    "\n",
    "Article from [towardsdatascience.com](https://towardsdatascience.com/advanced-pipelines-with-scikit-learn-4204bb71019b).\n",
    "\n",
    "> Note: In this notebook, I am studying the article mentioned above. Some changes may have been made to the code during its implementation."
   ],
   "metadata": {
    "collapsed": false
   }
  },
  {
   "cell_type": "markdown",
   "source": [
    "# Library"
   ],
   "metadata": {
    "collapsed": false
   }
  },
  {
   "cell_type": "code",
   "execution_count": 1,
   "outputs": [],
   "source": [
    "# The usual suspects\n",
    "import pandas as pd\n",
    "import numpy as np\n",
    "import matplotlib.pyplot as plt\n",
    "\n",
    "# Sklearn\n",
    "from sklearn.model_selection import (train_test_split, RandomizedSearchCV, RepeatedStratifiedKFold, cross_validate)\n",
    "\n",
    "# Assemble pipeline(s)\n",
    "from sklearn import set_config\n",
    "from sklearn.pipeline import make_pipeline, Pipeline\n",
    "from imblearn.pipeline import Pipeline as imbPipeline\n",
    "from sklearn.compose import ColumnTransformer, make_column_selector\n",
    "from sklearn.impute import SimpleImputer\n",
    "from sklearn.preprocessing import OneHotEncoder, MinMaxScaler\n",
    "\n",
    "# Handle constant/duplicates and missing features/columns\n",
    "from feature_engine.selection import (DropFeatures, DropConstantFeatures, DropDuplicateFeatures)\n",
    "\n",
    "# Sampling\n",
    "from imblearn.over_sampling import SMOTE\n",
    "from imblearn.under_sampling import RandomUnderSampler\n",
    "\n",
    "# Models\n",
    "from xgboost import XGBClassifier\n",
    "from sklearn.linear_model import LogisticRegression\n",
    "from sklearn.ensemble import RandomForestClassifier, VotingClassifier\n",
    "from sklearn.metrics import roc_auc_score\n",
    "from sklearn.inspection import permutation_importance\n",
    "from scipy.stats import loguniform\n",
    "\n",
    "set_config(display='diagram') # make pipeline visible"
   ],
   "metadata": {
    "collapsed": false
   }
  },
  {
   "cell_type": "markdown",
   "source": [
    "# Step 0: Preparation and data loading"
   ],
   "metadata": {
    "collapsed": false
   }
  },
  {
   "cell_type": "code",
   "execution_count": 2,
   "outputs": [
    {
     "name": "stderr",
     "output_type": "stream",
     "text": [
      "<ipython-input-2-3dfc3b879bdd>:1: FutureWarning: Your version of xlrd is 1.2.0. In xlrd >= 2.0, only the xls format is supported. As a result, the openpyxl engine will be used if it is installed and the engine argument is not specified. Install openpyxl instead.\n",
      "  XX = pd.read_excel('datasets/NewspaperChurn new version.xlsx')\n"
     ]
    }
   ],
   "source": [
    "XX = pd.read_excel('datasets/NewspaperChurn new version.xlsx')\n",
    "XX.columns = [k.lower().replace(' ', '_') for k in XX.columns]\n",
    "XX.rename(columns={'subscriber':'churn'}, inplace=True)\n",
    "XX['churn'].replace({'NO':False, 'YES':True}, inplace=True)"
   ],
   "metadata": {
    "collapsed": false
   }
  },
  {
   "cell_type": "code",
   "execution_count": 3,
   "outputs": [],
   "source": [
    "XX[XX.select_dtypes(['object']).columns] = XX.select_dtypes(['object']).apply(lambda x: x.astype('category'))"
   ],
   "metadata": {
    "collapsed": false
   }
  },
  {
   "cell_type": "code",
   "execution_count": 4,
   "outputs": [],
   "source": [
    "X = XX.drop('churn', axis=1)\n",
    "y = XX['churn']\n",
    "X_train, X_val, y_train, y_val = train_test_split(X, y, test_size=0.2)"
   ],
   "metadata": {
    "collapsed": false
   }
  },
  {
   "cell_type": "code",
   "execution_count": 6,
   "outputs": [
    {
     "data": {
      "text/plain": "   subscriptionid            hh_income home_ownership ethnicity  \\\n0       180590686  $  30,000 - $39,999         RENTER    German   \n1       181401653        $500,000 Plus          OWNER   unknown   \n2       180374685  $100,000 - $124,999          OWNER   Italian   \n3       180703483  $200,000 - $249,999          OWNER   English   \n4       180358906  $  50,000 - $59,999          OWNER   Italian   \n\n  dummy_for_children  year_of_residence age_range language            address  \\\n0                  N                  1     25-29   German  1 3RD PL UNIT 703   \n1                  Y                 14     50-54      NaN          1 AVIGNON   \n2                  Y                  7     45-49  English        1 BLACKSWAN   \n3                  N                 23     55-59  English     1 BLUE HORIZON   \n4                  N                 23     60-64  English   1 BRISA DEL LAGO   \n\n  state                    city       county  zip_code     weekly_fee  \\\n0    CA              LONG BEACH  LOS ANGELES     90802  $7.00 - $7.99   \n1    CA           NEWPORT COAST       ORANGE     92657  $0.01 - $0.50   \n2    CA                  IRVINE       ORANGE     92604  $0.01 - $0.50   \n3    CA           LAGUNA NIGUEL       ORANGE     92677  $1.00 - $1.99   \n4    CA  RANCHO SANTA MARGARITA       ORANGE     92688  $8.00 - $8.99   \n\n  deliveryperiod nielsen_prizm  reward_program source_channel  \n0           7Day            FM               0        CircAdm  \n1        SunOnly            MW               0        Partner  \n2        SunOnly            MW               0        Partner  \n3        SunOnly            MW               1       Internet  \n4        Thu-Sun            MM               0           Crew  ",
      "text/html": "<div>\n<style scoped>\n    .dataframe tbody tr th:only-of-type {\n        vertical-align: middle;\n    }\n\n    .dataframe tbody tr th {\n        vertical-align: top;\n    }\n\n    .dataframe thead th {\n        text-align: right;\n    }\n</style>\n<table border=\"1\" class=\"dataframe\">\n  <thead>\n    <tr style=\"text-align: right;\">\n      <th></th>\n      <th>subscriptionid</th>\n      <th>hh_income</th>\n      <th>home_ownership</th>\n      <th>ethnicity</th>\n      <th>dummy_for_children</th>\n      <th>year_of_residence</th>\n      <th>age_range</th>\n      <th>language</th>\n      <th>address</th>\n      <th>state</th>\n      <th>city</th>\n      <th>county</th>\n      <th>zip_code</th>\n      <th>weekly_fee</th>\n      <th>deliveryperiod</th>\n      <th>nielsen_prizm</th>\n      <th>reward_program</th>\n      <th>source_channel</th>\n    </tr>\n  </thead>\n  <tbody>\n    <tr>\n      <th>0</th>\n      <td>180590686</td>\n      <td>$  30,000 - $39,999</td>\n      <td>RENTER</td>\n      <td>German</td>\n      <td>N</td>\n      <td>1</td>\n      <td>25-29</td>\n      <td>German</td>\n      <td>1 3RD PL UNIT 703</td>\n      <td>CA</td>\n      <td>LONG BEACH</td>\n      <td>LOS ANGELES</td>\n      <td>90802</td>\n      <td>$7.00 - $7.99</td>\n      <td>7Day</td>\n      <td>FM</td>\n      <td>0</td>\n      <td>CircAdm</td>\n    </tr>\n    <tr>\n      <th>1</th>\n      <td>181401653</td>\n      <td>$500,000 Plus</td>\n      <td>OWNER</td>\n      <td>unknown</td>\n      <td>Y</td>\n      <td>14</td>\n      <td>50-54</td>\n      <td>NaN</td>\n      <td>1 AVIGNON</td>\n      <td>CA</td>\n      <td>NEWPORT COAST</td>\n      <td>ORANGE</td>\n      <td>92657</td>\n      <td>$0.01 - $0.50</td>\n      <td>SunOnly</td>\n      <td>MW</td>\n      <td>0</td>\n      <td>Partner</td>\n    </tr>\n    <tr>\n      <th>2</th>\n      <td>180374685</td>\n      <td>$100,000 - $124,999</td>\n      <td>OWNER</td>\n      <td>Italian</td>\n      <td>Y</td>\n      <td>7</td>\n      <td>45-49</td>\n      <td>English</td>\n      <td>1 BLACKSWAN</td>\n      <td>CA</td>\n      <td>IRVINE</td>\n      <td>ORANGE</td>\n      <td>92604</td>\n      <td>$0.01 - $0.50</td>\n      <td>SunOnly</td>\n      <td>MW</td>\n      <td>0</td>\n      <td>Partner</td>\n    </tr>\n    <tr>\n      <th>3</th>\n      <td>180703483</td>\n      <td>$200,000 - $249,999</td>\n      <td>OWNER</td>\n      <td>English</td>\n      <td>N</td>\n      <td>23</td>\n      <td>55-59</td>\n      <td>English</td>\n      <td>1 BLUE HORIZON</td>\n      <td>CA</td>\n      <td>LAGUNA NIGUEL</td>\n      <td>ORANGE</td>\n      <td>92677</td>\n      <td>$1.00 - $1.99</td>\n      <td>SunOnly</td>\n      <td>MW</td>\n      <td>1</td>\n      <td>Internet</td>\n    </tr>\n    <tr>\n      <th>4</th>\n      <td>180358906</td>\n      <td>$  50,000 - $59,999</td>\n      <td>OWNER</td>\n      <td>Italian</td>\n      <td>N</td>\n      <td>23</td>\n      <td>60-64</td>\n      <td>English</td>\n      <td>1 BRISA DEL LAGO</td>\n      <td>CA</td>\n      <td>RANCHO SANTA MARGARITA</td>\n      <td>ORANGE</td>\n      <td>92688</td>\n      <td>$8.00 - $8.99</td>\n      <td>Thu-Sun</td>\n      <td>MM</td>\n      <td>0</td>\n      <td>Crew</td>\n    </tr>\n  </tbody>\n</table>\n</div>"
     },
     "execution_count": 6,
     "metadata": {},
     "output_type": "execute_result"
    }
   ],
   "source": [
    "X.head()"
   ],
   "metadata": {
    "collapsed": false
   }
  },
  {
   "cell_type": "code",
   "execution_count": 7,
   "outputs": [
    {
     "data": {
      "text/plain": "(15855, 18)"
     },
     "execution_count": 7,
     "metadata": {},
     "output_type": "execute_result"
    }
   ],
   "source": [
    "X.shape"
   ],
   "metadata": {
    "collapsed": false
   }
  },
  {
   "cell_type": "code",
   "execution_count": 8,
   "outputs": [
    {
     "data": {
      "text/plain": "0    False\n1     True\n2     True\n3    False\n4     True\nName: churn, dtype: bool"
     },
     "execution_count": 8,
     "metadata": {},
     "output_type": "execute_result"
    }
   ],
   "source": [
    "y.head()"
   ],
   "metadata": {
    "collapsed": false
   }
  },
  {
   "cell_type": "code",
   "execution_count": 8,
   "outputs": [
    {
     "data": {
      "text/plain": "(15855,)"
     },
     "execution_count": 8,
     "metadata": {},
     "output_type": "execute_result"
    }
   ],
   "source": [
    "y.shape"
   ],
   "metadata": {
    "collapsed": false
   }
  },
  {
   "cell_type": "markdown",
   "source": [
    "# Step 1: Exclude features"
   ],
   "metadata": {
    "collapsed": false
   }
  },
  {
   "cell_type": "code",
   "execution_count": 9,
   "outputs": [],
   "source": [
    "ppl = Pipeline(\n",
    "    [\n",
    "        # Step 1: Drop irrelevant columns/features\n",
    "        ('drop_columns', DropFeatures(['subscriptionid'])),\n",
    "        ('drop_constant_values', DropConstantFeatures(tol=1, missing_values='ignore')),\n",
    "        ('drop_duplicates', DropDuplicateFeatures())\n",
    "    ]\n",
    ")"
   ],
   "metadata": {
    "collapsed": false
   }
  },
  {
   "cell_type": "markdown",
   "source": [
    "# Step 2: Impute and transform values"
   ],
   "metadata": {
    "collapsed": false
   }
  },
  {
   "cell_type": "code",
   "execution_count": 11,
   "outputs": [],
   "source": [
    "ppl = Pipeline(\n",
    "    [\n",
    "        # Step 1: Drop irrelevant columns/features\n",
    "        ('drop_columns', DropFeatures(['subscriptionid'])),\n",
    "        ('drop_constant_values', DropConstantFeatures(tol=1, missing_values='ignore')),\n",
    "        ('drop_duplicates', DropDuplicateFeatures()),\n",
    "\n",
    "        # Step 2: Impute and scale columns/features\n",
    "        (\n",
    "            'cleaning',\n",
    "            ColumnTransformer(\n",
    "                [\n",
    "                    # Step 2.1: apply steps for numerical features\n",
    "                    (\n",
    "                        'num',\n",
    "                        make_pipeline(\n",
    "                            SimpleImputer(strategy='mean'),\n",
    "                            MinMaxScaler()\n",
    "                        ),\n",
    "                        make_column_selector(dtype_include='int64')\n",
    "                    ),\n",
    "                    # Step 2.2: apply steps for categorical features\n",
    "                    (\n",
    "                        'cat',\n",
    "                        make_pipeline(\n",
    "                            SimpleImputer(strategy='most_frequent'),\n",
    "                            OneHotEncoder(sparse=False, handle_unknown='ignore')\n",
    "                        ),\n",
    "                        make_column_selector(dtype_include='category')\n",
    "                    )\n",
    "                ]\n",
    "            )\n",
    "        )\n",
    "    ]\n",
    ")"
   ],
   "metadata": {
    "collapsed": false
   }
  },
  {
   "cell_type": "markdown",
   "source": [
    "# Step 3: Sampling"
   ],
   "metadata": {
    "collapsed": false
   }
  },
  {
   "cell_type": "code",
   "execution_count": 5,
   "outputs": [],
   "source": [
    "ppl = Pipeline(\n",
    "    [\n",
    "        # Step 1: Drop irrelevant columns/features\n",
    "        ('drop_columns', DropFeatures(['subscriptionid'])),\n",
    "        ('drop_constant_values', DropConstantFeatures(tol=1, missing_values='ignore')),\n",
    "        ('drop_duplicates', DropDuplicateFeatures()),\n",
    "\n",
    "        # Step 2: Impute and scale columns/features\n",
    "        (\n",
    "            'cleaning',\n",
    "            ColumnTransformer(\n",
    "                [\n",
    "                    # Step 2.1: apply steps for numerical features\n",
    "                    (\n",
    "                        'num',\n",
    "                        make_pipeline(\n",
    "                            SimpleImputer(strategy='mean'),\n",
    "                            MinMaxScaler()\n",
    "                        ),\n",
    "                        make_column_selector(dtype_include='int64')\n",
    "                    ),\n",
    "                    # Step 2.2: apply steps for categorical features\n",
    "                    (\n",
    "                        'cat',\n",
    "                        make_pipeline(\n",
    "                            SimpleImputer(strategy='most_frequent'),\n",
    "                            OneHotEncoder(sparse=False, handle_unknown='ignore')\n",
    "                        ),\n",
    "                        make_column_selector(dtype_include='category')\n",
    "                    )\n",
    "                ]\n",
    "            )\n",
    "        ),\n",
    "\n",
    "        # Step 3: Sampling\n",
    "        ('smote', SMOTE())\n",
    "    ]\n",
    ")"
   ],
   "metadata": {
    "collapsed": false
   }
  },
  {
   "cell_type": "code",
   "execution_count": 6,
   "outputs": [
    {
     "data": {
      "text/plain": "Pipeline(steps=[('drop_columns',\n                 DropFeatures(features_to_drop=['subscriptionid'])),\n                ('drop_constant_values',\n                 DropConstantFeatures(missing_values='ignore')),\n                ('drop_duplicates', DropDuplicateFeatures()),\n                ('cleaning',\n                 ColumnTransformer(transformers=[('num',\n                                                  Pipeline(steps=[('simpleimputer',\n                                                                   SimpleImputer()),\n                                                                  ('minmaxscaler',\n                                                                   MinMaxScaler())]),\n                                                  <sklearn.compose._column_transformer.make_column_selector object at 0x7f37171cd130>),\n                                                 ('cat',\n                                                  Pipeline(steps=[('simpleimputer',\n                                                                   SimpleImputer(strategy='most_frequent')),\n                                                                  ('onehotencoder',\n                                                                   OneHotEncoder(handle_unknown='ignore',\n                                                                                 sparse=False))]),\n                                                  <sklearn.compose._column_transformer.make_column_selector object at 0x7f37171cd280>)])),\n                ('smote', SMOTE())])",
      "text/html": "<style>#sk-container-id-1 {color: black;background-color: white;}#sk-container-id-1 pre{padding: 0;}#sk-container-id-1 div.sk-toggleable {background-color: white;}#sk-container-id-1 label.sk-toggleable__label {cursor: pointer;display: block;width: 100%;margin-bottom: 0;padding: 0.3em;box-sizing: border-box;text-align: center;}#sk-container-id-1 label.sk-toggleable__label-arrow:before {content: \"▸\";float: left;margin-right: 0.25em;color: #696969;}#sk-container-id-1 label.sk-toggleable__label-arrow:hover:before {color: black;}#sk-container-id-1 div.sk-estimator:hover label.sk-toggleable__label-arrow:before {color: black;}#sk-container-id-1 div.sk-toggleable__content {max-height: 0;max-width: 0;overflow: hidden;text-align: left;background-color: #f0f8ff;}#sk-container-id-1 div.sk-toggleable__content pre {margin: 0.2em;color: black;border-radius: 0.25em;background-color: #f0f8ff;}#sk-container-id-1 input.sk-toggleable__control:checked~div.sk-toggleable__content {max-height: 200px;max-width: 100%;overflow: auto;}#sk-container-id-1 input.sk-toggleable__control:checked~label.sk-toggleable__label-arrow:before {content: \"▾\";}#sk-container-id-1 div.sk-estimator input.sk-toggleable__control:checked~label.sk-toggleable__label {background-color: #d4ebff;}#sk-container-id-1 div.sk-label input.sk-toggleable__control:checked~label.sk-toggleable__label {background-color: #d4ebff;}#sk-container-id-1 input.sk-hidden--visually {border: 0;clip: rect(1px 1px 1px 1px);clip: rect(1px, 1px, 1px, 1px);height: 1px;margin: -1px;overflow: hidden;padding: 0;position: absolute;width: 1px;}#sk-container-id-1 div.sk-estimator {font-family: monospace;background-color: #f0f8ff;border: 1px dotted black;border-radius: 0.25em;box-sizing: border-box;margin-bottom: 0.5em;}#sk-container-id-1 div.sk-estimator:hover {background-color: #d4ebff;}#sk-container-id-1 div.sk-parallel-item::after {content: \"\";width: 100%;border-bottom: 1px solid gray;flex-grow: 1;}#sk-container-id-1 div.sk-label:hover label.sk-toggleable__label {background-color: #d4ebff;}#sk-container-id-1 div.sk-serial::before {content: \"\";position: absolute;border-left: 1px solid gray;box-sizing: border-box;top: 0;bottom: 0;left: 50%;z-index: 0;}#sk-container-id-1 div.sk-serial {display: flex;flex-direction: column;align-items: center;background-color: white;padding-right: 0.2em;padding-left: 0.2em;position: relative;}#sk-container-id-1 div.sk-item {position: relative;z-index: 1;}#sk-container-id-1 div.sk-parallel {display: flex;align-items: stretch;justify-content: center;background-color: white;position: relative;}#sk-container-id-1 div.sk-item::before, #sk-container-id-1 div.sk-parallel-item::before {content: \"\";position: absolute;border-left: 1px solid gray;box-sizing: border-box;top: 0;bottom: 0;left: 50%;z-index: -1;}#sk-container-id-1 div.sk-parallel-item {display: flex;flex-direction: column;z-index: 1;position: relative;background-color: white;}#sk-container-id-1 div.sk-parallel-item:first-child::after {align-self: flex-end;width: 50%;}#sk-container-id-1 div.sk-parallel-item:last-child::after {align-self: flex-start;width: 50%;}#sk-container-id-1 div.sk-parallel-item:only-child::after {width: 0;}#sk-container-id-1 div.sk-dashed-wrapped {border: 1px dashed gray;margin: 0 0.4em 0.5em 0.4em;box-sizing: border-box;padding-bottom: 0.4em;background-color: white;}#sk-container-id-1 div.sk-label label {font-family: monospace;font-weight: bold;display: inline-block;line-height: 1.2em;}#sk-container-id-1 div.sk-label-container {text-align: center;}#sk-container-id-1 div.sk-container {/* jupyter's `normalize.less` sets `[hidden] { display: none; }` but bootstrap.min.css set `[hidden] { display: none !important; }` so we also need the `!important` here to be able to override the default hidden behavior on the sphinx rendered scikit-learn.org. See: https://github.com/scikit-learn/scikit-learn/issues/21755 */display: inline-block !important;position: relative;}#sk-container-id-1 div.sk-text-repr-fallback {display: none;}</style><div id=\"sk-container-id-1\" class=\"sk-top-container\"><div class=\"sk-text-repr-fallback\"><pre>Pipeline(steps=[(&#x27;drop_columns&#x27;,\n                 DropFeatures(features_to_drop=[&#x27;subscriptionid&#x27;])),\n                (&#x27;drop_constant_values&#x27;,\n                 DropConstantFeatures(missing_values=&#x27;ignore&#x27;)),\n                (&#x27;drop_duplicates&#x27;, DropDuplicateFeatures()),\n                (&#x27;cleaning&#x27;,\n                 ColumnTransformer(transformers=[(&#x27;num&#x27;,\n                                                  Pipeline(steps=[(&#x27;simpleimputer&#x27;,\n                                                                   SimpleImputer()),\n                                                                  (&#x27;minmaxscaler&#x27;,\n                                                                   MinMaxScaler())]),\n                                                  &lt;sklearn.compose._column_transformer.make_column_selector object at 0x7f37171cd130&gt;),\n                                                 (&#x27;cat&#x27;,\n                                                  Pipeline(steps=[(&#x27;simpleimputer&#x27;,\n                                                                   SimpleImputer(strategy=&#x27;most_frequent&#x27;)),\n                                                                  (&#x27;onehotencoder&#x27;,\n                                                                   OneHotEncoder(handle_unknown=&#x27;ignore&#x27;,\n                                                                                 sparse=False))]),\n                                                  &lt;sklearn.compose._column_transformer.make_column_selector object at 0x7f37171cd280&gt;)])),\n                (&#x27;smote&#x27;, SMOTE())])</pre><b>In a Jupyter environment, please rerun this cell to show the HTML representation or trust the notebook. <br />On GitHub, the HTML representation is unable to render, please try loading this page with nbviewer.org.</b></div><div class=\"sk-container\" hidden><div class=\"sk-item sk-dashed-wrapped\"><div class=\"sk-label-container\"><div class=\"sk-label sk-toggleable\"><input class=\"sk-toggleable__control sk-hidden--visually\" id=\"sk-estimator-id-1\" type=\"checkbox\" ><label for=\"sk-estimator-id-1\" class=\"sk-toggleable__label sk-toggleable__label-arrow\">Pipeline</label><div class=\"sk-toggleable__content\"><pre>Pipeline(steps=[(&#x27;drop_columns&#x27;,\n                 DropFeatures(features_to_drop=[&#x27;subscriptionid&#x27;])),\n                (&#x27;drop_constant_values&#x27;,\n                 DropConstantFeatures(missing_values=&#x27;ignore&#x27;)),\n                (&#x27;drop_duplicates&#x27;, DropDuplicateFeatures()),\n                (&#x27;cleaning&#x27;,\n                 ColumnTransformer(transformers=[(&#x27;num&#x27;,\n                                                  Pipeline(steps=[(&#x27;simpleimputer&#x27;,\n                                                                   SimpleImputer()),\n                                                                  (&#x27;minmaxscaler&#x27;,\n                                                                   MinMaxScaler())]),\n                                                  &lt;sklearn.compose._column_transformer.make_column_selector object at 0x7f37171cd130&gt;),\n                                                 (&#x27;cat&#x27;,\n                                                  Pipeline(steps=[(&#x27;simpleimputer&#x27;,\n                                                                   SimpleImputer(strategy=&#x27;most_frequent&#x27;)),\n                                                                  (&#x27;onehotencoder&#x27;,\n                                                                   OneHotEncoder(handle_unknown=&#x27;ignore&#x27;,\n                                                                                 sparse=False))]),\n                                                  &lt;sklearn.compose._column_transformer.make_column_selector object at 0x7f37171cd280&gt;)])),\n                (&#x27;smote&#x27;, SMOTE())])</pre></div></div></div><div class=\"sk-serial\"><div class=\"sk-item\"><div class=\"sk-estimator sk-toggleable\"><input class=\"sk-toggleable__control sk-hidden--visually\" id=\"sk-estimator-id-2\" type=\"checkbox\" ><label for=\"sk-estimator-id-2\" class=\"sk-toggleable__label sk-toggleable__label-arrow\">DropFeatures</label><div class=\"sk-toggleable__content\"><pre>DropFeatures(features_to_drop=[&#x27;subscriptionid&#x27;])</pre></div></div></div><div class=\"sk-item\"><div class=\"sk-estimator sk-toggleable\"><input class=\"sk-toggleable__control sk-hidden--visually\" id=\"sk-estimator-id-3\" type=\"checkbox\" ><label for=\"sk-estimator-id-3\" class=\"sk-toggleable__label sk-toggleable__label-arrow\">DropConstantFeatures</label><div class=\"sk-toggleable__content\"><pre>DropConstantFeatures(missing_values=&#x27;ignore&#x27;)</pre></div></div></div><div class=\"sk-item\"><div class=\"sk-estimator sk-toggleable\"><input class=\"sk-toggleable__control sk-hidden--visually\" id=\"sk-estimator-id-4\" type=\"checkbox\" ><label for=\"sk-estimator-id-4\" class=\"sk-toggleable__label sk-toggleable__label-arrow\">DropDuplicateFeatures</label><div class=\"sk-toggleable__content\"><pre>DropDuplicateFeatures()</pre></div></div></div><div class=\"sk-item sk-dashed-wrapped\"><div class=\"sk-label-container\"><div class=\"sk-label sk-toggleable\"><input class=\"sk-toggleable__control sk-hidden--visually\" id=\"sk-estimator-id-5\" type=\"checkbox\" ><label for=\"sk-estimator-id-5\" class=\"sk-toggleable__label sk-toggleable__label-arrow\">cleaning: ColumnTransformer</label><div class=\"sk-toggleable__content\"><pre>ColumnTransformer(transformers=[(&#x27;num&#x27;,\n                                 Pipeline(steps=[(&#x27;simpleimputer&#x27;,\n                                                  SimpleImputer()),\n                                                 (&#x27;minmaxscaler&#x27;,\n                                                  MinMaxScaler())]),\n                                 &lt;sklearn.compose._column_transformer.make_column_selector object at 0x7f37171cd130&gt;),\n                                (&#x27;cat&#x27;,\n                                 Pipeline(steps=[(&#x27;simpleimputer&#x27;,\n                                                  SimpleImputer(strategy=&#x27;most_frequent&#x27;)),\n                                                 (&#x27;onehotencoder&#x27;,\n                                                  OneHotEncoder(handle_unknown=&#x27;ignore&#x27;,\n                                                                sparse=False))]),\n                                 &lt;sklearn.compose._column_transformer.make_column_selector object at 0x7f37171cd280&gt;)])</pre></div></div></div><div class=\"sk-parallel\"><div class=\"sk-parallel-item\"><div class=\"sk-item\"><div class=\"sk-label-container\"><div class=\"sk-label sk-toggleable\"><input class=\"sk-toggleable__control sk-hidden--visually\" id=\"sk-estimator-id-6\" type=\"checkbox\" ><label for=\"sk-estimator-id-6\" class=\"sk-toggleable__label sk-toggleable__label-arrow\">num</label><div class=\"sk-toggleable__content\"><pre>&lt;sklearn.compose._column_transformer.make_column_selector object at 0x7f37171cd130&gt;</pre></div></div></div><div class=\"sk-serial\"><div class=\"sk-item\"><div class=\"sk-serial\"><div class=\"sk-item\"><div class=\"sk-estimator sk-toggleable\"><input class=\"sk-toggleable__control sk-hidden--visually\" id=\"sk-estimator-id-7\" type=\"checkbox\" ><label for=\"sk-estimator-id-7\" class=\"sk-toggleable__label sk-toggleable__label-arrow\">SimpleImputer</label><div class=\"sk-toggleable__content\"><pre>SimpleImputer()</pre></div></div></div><div class=\"sk-item\"><div class=\"sk-estimator sk-toggleable\"><input class=\"sk-toggleable__control sk-hidden--visually\" id=\"sk-estimator-id-8\" type=\"checkbox\" ><label for=\"sk-estimator-id-8\" class=\"sk-toggleable__label sk-toggleable__label-arrow\">MinMaxScaler</label><div class=\"sk-toggleable__content\"><pre>MinMaxScaler()</pre></div></div></div></div></div></div></div></div><div class=\"sk-parallel-item\"><div class=\"sk-item\"><div class=\"sk-label-container\"><div class=\"sk-label sk-toggleable\"><input class=\"sk-toggleable__control sk-hidden--visually\" id=\"sk-estimator-id-9\" type=\"checkbox\" ><label for=\"sk-estimator-id-9\" class=\"sk-toggleable__label sk-toggleable__label-arrow\">cat</label><div class=\"sk-toggleable__content\"><pre>&lt;sklearn.compose._column_transformer.make_column_selector object at 0x7f37171cd280&gt;</pre></div></div></div><div class=\"sk-serial\"><div class=\"sk-item\"><div class=\"sk-serial\"><div class=\"sk-item\"><div class=\"sk-estimator sk-toggleable\"><input class=\"sk-toggleable__control sk-hidden--visually\" id=\"sk-estimator-id-10\" type=\"checkbox\" ><label for=\"sk-estimator-id-10\" class=\"sk-toggleable__label sk-toggleable__label-arrow\">SimpleImputer</label><div class=\"sk-toggleable__content\"><pre>SimpleImputer(strategy=&#x27;most_frequent&#x27;)</pre></div></div></div><div class=\"sk-item\"><div class=\"sk-estimator sk-toggleable\"><input class=\"sk-toggleable__control sk-hidden--visually\" id=\"sk-estimator-id-11\" type=\"checkbox\" ><label for=\"sk-estimator-id-11\" class=\"sk-toggleable__label sk-toggleable__label-arrow\">OneHotEncoder</label><div class=\"sk-toggleable__content\"><pre>OneHotEncoder(handle_unknown=&#x27;ignore&#x27;, sparse=False)</pre></div></div></div></div></div></div></div></div></div></div><div class=\"sk-item\"><div class=\"sk-estimator sk-toggleable\"><input class=\"sk-toggleable__control sk-hidden--visually\" id=\"sk-estimator-id-12\" type=\"checkbox\" ><label for=\"sk-estimator-id-12\" class=\"sk-toggleable__label sk-toggleable__label-arrow\">SMOTE</label><div class=\"sk-toggleable__content\"><pre>SMOTE()</pre></div></div></div></div></div></div></div>"
     },
     "execution_count": 6,
     "metadata": {},
     "output_type": "execute_result"
    }
   ],
   "source": [
    "ppl"
   ],
   "metadata": {
    "collapsed": false
   }
  },
  {
   "cell_type": "markdown",
   "source": [
    "## Extract transformed and scaled features from the pipeline\n"
   ],
   "metadata": {
    "collapsed": false
   }
  },
  {
   "cell_type": "code",
   "execution_count": 6,
   "outputs": [
    {
     "data": {
      "text/plain": "0                    num__year_of_residence\n1                             num__zip_code\n2                       num__reward_program\n3        cat__hh_income_$  20,000 - $29,999\n4        cat__hh_income_$  30,000 - $39,999\n                        ...                \n12900               cat__source_channel_TMC\n12901            cat__source_channel_TeleIn\n12902           cat__source_channel_TeleOut\n12903               cat__source_channel_VRU\n12904          cat__source_channel_iSrvices\nLength: 12905, dtype: object"
     },
     "execution_count": 6,
     "metadata": {},
     "output_type": "execute_result"
    }
   ],
   "source": [
    "ppl_fts = ppl[0:4]\n",
    "ppl_fts.fit(X_train, y_train)\n",
    "features = ppl_fts.get_feature_names_out()\n",
    "pd.Series(features)"
   ],
   "metadata": {
    "collapsed": false
   }
  },
  {
   "cell_type": "markdown",
   "source": [
    "# Step 4: Building the ensemble classifier"
   ],
   "metadata": {
    "collapsed": false
   }
  },
  {
   "cell_type": "code",
   "execution_count": 7,
   "outputs": [],
   "source": [
    "# Linear model (logistic regression)\n",
    "lr = LogisticRegression(warm_start=True, max_iter=400)\n",
    "# RandomForest\n",
    "rf = RandomForestClassifier()\n",
    "# XGB\n",
    "xgb = XGBClassifier(tree_method='hist', verbosity=0, silent=True)\n",
    "# Ensemble\n",
    "lr_xgb_rf = VotingClassifier(\n",
    "    estimators=[\n",
    "        ('lr', lr), ('xgb', xgb), ('rf', rf)\n",
    "    ],\n",
    "    voting='soft'\n",
    ")"
   ],
   "metadata": {
    "collapsed": false
   }
  },
  {
   "cell_type": "code",
   "execution_count": 8,
   "outputs": [],
   "source": [
    "ppl = imbPipeline( # It would crash with the Pipeline object from sklearn\n",
    "    [\n",
    "        # Step 1: Drop irrelevant columns/features\n",
    "        ('drop_columns', DropFeatures(['subscriptionid'])),\n",
    "        ('drop_constant_values', DropConstantFeatures(tol=1, missing_values='ignore')),\n",
    "        ('drop_duplicates', DropDuplicateFeatures()),\n",
    "\n",
    "        # Step 2: Impute and scale columns/features\n",
    "        (\n",
    "            'cleaning',\n",
    "            ColumnTransformer(\n",
    "                [\n",
    "                    # Step 2.1: apply steps for numerical features\n",
    "                    (\n",
    "                        'num',\n",
    "                        make_pipeline(\n",
    "                            SimpleImputer(strategy='mean'),\n",
    "                            MinMaxScaler()\n",
    "                        ),\n",
    "                        make_column_selector(dtype_include='int64')\n",
    "                    ),\n",
    "                    # Step 2.2: apply steps for categorical features\n",
    "                    (\n",
    "                        'cat',\n",
    "                        make_pipeline(\n",
    "                            SimpleImputer(strategy='most_frequent'),\n",
    "                            OneHotEncoder(sparse=False, handle_unknown='ignore')\n",
    "                        ),\n",
    "                        make_column_selector(dtype_include='category')\n",
    "                    )\n",
    "                ]\n",
    "            )\n",
    "        ),\n",
    "\n",
    "        # Step 3: Sampling\n",
    "        ('smote', SMOTE()),\n",
    "\n",
    "        # Step 4: Voting classifier\n",
    "        ('ensemble', lr_xgb_rf)\n",
    "    ]\n",
    ")"
   ],
   "metadata": {
    "collapsed": false
   }
  },
  {
   "cell_type": "code",
   "execution_count": 10,
   "outputs": [
    {
     "data": {
      "text/plain": "Pipeline(steps=[('drop_columns',\n                 DropFeatures(features_to_drop=['subscriptionid'])),\n                ('drop_constant_values',\n                 DropConstantFeatures(missing_values='ignore')),\n                ('drop_duplicates', DropDuplicateFeatures()),\n                ('cleaning',\n                 ColumnTransformer(transformers=[('num',\n                                                  Pipeline(steps=[('simpleimputer',\n                                                                   SimpleImputer()),\n                                                                  ('minmaxscaler',\n                                                                   MinMaxScaler())]),\n                                                  <sklearn.compose....\n                                                             interaction_constraints=None,\n                                                             learning_rate=None,\n                                                             max_bin=None,\n                                                             max_cat_to_onehot=None,\n                                                             max_delta_step=None,\n                                                             max_depth=None,\n                                                             max_leaves=None,\n                                                             min_child_weight=None,\n                                                             missing=nan,\n                                                             monotone_constraints=None,\n                                                             n_estimators=100,\n                                                             n_jobs=None,\n                                                             num_parallel_tree=None,\n                                                             predictor=None,\n                                                             random_state=None,\n                                                             reg_alpha=None,\n                                                             reg_lambda=None, ...)),\n                                              ('rf', RandomForestClassifier())],\n                                  voting='soft'))])",
      "text/html": "<style>#sk-container-id-2 {color: black;background-color: white;}#sk-container-id-2 pre{padding: 0;}#sk-container-id-2 div.sk-toggleable {background-color: white;}#sk-container-id-2 label.sk-toggleable__label {cursor: pointer;display: block;width: 100%;margin-bottom: 0;padding: 0.3em;box-sizing: border-box;text-align: center;}#sk-container-id-2 label.sk-toggleable__label-arrow:before {content: \"▸\";float: left;margin-right: 0.25em;color: #696969;}#sk-container-id-2 label.sk-toggleable__label-arrow:hover:before {color: black;}#sk-container-id-2 div.sk-estimator:hover label.sk-toggleable__label-arrow:before {color: black;}#sk-container-id-2 div.sk-toggleable__content {max-height: 0;max-width: 0;overflow: hidden;text-align: left;background-color: #f0f8ff;}#sk-container-id-2 div.sk-toggleable__content pre {margin: 0.2em;color: black;border-radius: 0.25em;background-color: #f0f8ff;}#sk-container-id-2 input.sk-toggleable__control:checked~div.sk-toggleable__content {max-height: 200px;max-width: 100%;overflow: auto;}#sk-container-id-2 input.sk-toggleable__control:checked~label.sk-toggleable__label-arrow:before {content: \"▾\";}#sk-container-id-2 div.sk-estimator input.sk-toggleable__control:checked~label.sk-toggleable__label {background-color: #d4ebff;}#sk-container-id-2 div.sk-label input.sk-toggleable__control:checked~label.sk-toggleable__label {background-color: #d4ebff;}#sk-container-id-2 input.sk-hidden--visually {border: 0;clip: rect(1px 1px 1px 1px);clip: rect(1px, 1px, 1px, 1px);height: 1px;margin: -1px;overflow: hidden;padding: 0;position: absolute;width: 1px;}#sk-container-id-2 div.sk-estimator {font-family: monospace;background-color: #f0f8ff;border: 1px dotted black;border-radius: 0.25em;box-sizing: border-box;margin-bottom: 0.5em;}#sk-container-id-2 div.sk-estimator:hover {background-color: #d4ebff;}#sk-container-id-2 div.sk-parallel-item::after {content: \"\";width: 100%;border-bottom: 1px solid gray;flex-grow: 1;}#sk-container-id-2 div.sk-label:hover label.sk-toggleable__label {background-color: #d4ebff;}#sk-container-id-2 div.sk-serial::before {content: \"\";position: absolute;border-left: 1px solid gray;box-sizing: border-box;top: 0;bottom: 0;left: 50%;z-index: 0;}#sk-container-id-2 div.sk-serial {display: flex;flex-direction: column;align-items: center;background-color: white;padding-right: 0.2em;padding-left: 0.2em;position: relative;}#sk-container-id-2 div.sk-item {position: relative;z-index: 1;}#sk-container-id-2 div.sk-parallel {display: flex;align-items: stretch;justify-content: center;background-color: white;position: relative;}#sk-container-id-2 div.sk-item::before, #sk-container-id-2 div.sk-parallel-item::before {content: \"\";position: absolute;border-left: 1px solid gray;box-sizing: border-box;top: 0;bottom: 0;left: 50%;z-index: -1;}#sk-container-id-2 div.sk-parallel-item {display: flex;flex-direction: column;z-index: 1;position: relative;background-color: white;}#sk-container-id-2 div.sk-parallel-item:first-child::after {align-self: flex-end;width: 50%;}#sk-container-id-2 div.sk-parallel-item:last-child::after {align-self: flex-start;width: 50%;}#sk-container-id-2 div.sk-parallel-item:only-child::after {width: 0;}#sk-container-id-2 div.sk-dashed-wrapped {border: 1px dashed gray;margin: 0 0.4em 0.5em 0.4em;box-sizing: border-box;padding-bottom: 0.4em;background-color: white;}#sk-container-id-2 div.sk-label label {font-family: monospace;font-weight: bold;display: inline-block;line-height: 1.2em;}#sk-container-id-2 div.sk-label-container {text-align: center;}#sk-container-id-2 div.sk-container {/* jupyter's `normalize.less` sets `[hidden] { display: none; }` but bootstrap.min.css set `[hidden] { display: none !important; }` so we also need the `!important` here to be able to override the default hidden behavior on the sphinx rendered scikit-learn.org. See: https://github.com/scikit-learn/scikit-learn/issues/21755 */display: inline-block !important;position: relative;}#sk-container-id-2 div.sk-text-repr-fallback {display: none;}</style><div id=\"sk-container-id-2\" class=\"sk-top-container\"><div class=\"sk-text-repr-fallback\"><pre>Pipeline(steps=[(&#x27;drop_columns&#x27;,\n                 DropFeatures(features_to_drop=[&#x27;subscriptionid&#x27;])),\n                (&#x27;drop_constant_values&#x27;,\n                 DropConstantFeatures(missing_values=&#x27;ignore&#x27;)),\n                (&#x27;drop_duplicates&#x27;, DropDuplicateFeatures()),\n                (&#x27;cleaning&#x27;,\n                 ColumnTransformer(transformers=[(&#x27;num&#x27;,\n                                                  Pipeline(steps=[(&#x27;simpleimputer&#x27;,\n                                                                   SimpleImputer()),\n                                                                  (&#x27;minmaxscaler&#x27;,\n                                                                   MinMaxScaler())]),\n                                                  &lt;sklearn.compose....\n                                                             interaction_constraints=None,\n                                                             learning_rate=None,\n                                                             max_bin=None,\n                                                             max_cat_to_onehot=None,\n                                                             max_delta_step=None,\n                                                             max_depth=None,\n                                                             max_leaves=None,\n                                                             min_child_weight=None,\n                                                             missing=nan,\n                                                             monotone_constraints=None,\n                                                             n_estimators=100,\n                                                             n_jobs=None,\n                                                             num_parallel_tree=None,\n                                                             predictor=None,\n                                                             random_state=None,\n                                                             reg_alpha=None,\n                                                             reg_lambda=None, ...)),\n                                              (&#x27;rf&#x27;, RandomForestClassifier())],\n                                  voting=&#x27;soft&#x27;))])</pre><b>In a Jupyter environment, please rerun this cell to show the HTML representation or trust the notebook. <br />On GitHub, the HTML representation is unable to render, please try loading this page with nbviewer.org.</b></div><div class=\"sk-container\" hidden><div class=\"sk-item sk-dashed-wrapped\"><div class=\"sk-label-container\"><div class=\"sk-label sk-toggleable\"><input class=\"sk-toggleable__control sk-hidden--visually\" id=\"sk-estimator-id-13\" type=\"checkbox\" ><label for=\"sk-estimator-id-13\" class=\"sk-toggleable__label sk-toggleable__label-arrow\">Pipeline</label><div class=\"sk-toggleable__content\"><pre>Pipeline(steps=[(&#x27;drop_columns&#x27;,\n                 DropFeatures(features_to_drop=[&#x27;subscriptionid&#x27;])),\n                (&#x27;drop_constant_values&#x27;,\n                 DropConstantFeatures(missing_values=&#x27;ignore&#x27;)),\n                (&#x27;drop_duplicates&#x27;, DropDuplicateFeatures()),\n                (&#x27;cleaning&#x27;,\n                 ColumnTransformer(transformers=[(&#x27;num&#x27;,\n                                                  Pipeline(steps=[(&#x27;simpleimputer&#x27;,\n                                                                   SimpleImputer()),\n                                                                  (&#x27;minmaxscaler&#x27;,\n                                                                   MinMaxScaler())]),\n                                                  &lt;sklearn.compose....\n                                                             interaction_constraints=None,\n                                                             learning_rate=None,\n                                                             max_bin=None,\n                                                             max_cat_to_onehot=None,\n                                                             max_delta_step=None,\n                                                             max_depth=None,\n                                                             max_leaves=None,\n                                                             min_child_weight=None,\n                                                             missing=nan,\n                                                             monotone_constraints=None,\n                                                             n_estimators=100,\n                                                             n_jobs=None,\n                                                             num_parallel_tree=None,\n                                                             predictor=None,\n                                                             random_state=None,\n                                                             reg_alpha=None,\n                                                             reg_lambda=None, ...)),\n                                              (&#x27;rf&#x27;, RandomForestClassifier())],\n                                  voting=&#x27;soft&#x27;))])</pre></div></div></div><div class=\"sk-serial\"><div class=\"sk-item\"><div class=\"sk-estimator sk-toggleable\"><input class=\"sk-toggleable__control sk-hidden--visually\" id=\"sk-estimator-id-14\" type=\"checkbox\" ><label for=\"sk-estimator-id-14\" class=\"sk-toggleable__label sk-toggleable__label-arrow\">DropFeatures</label><div class=\"sk-toggleable__content\"><pre>DropFeatures(features_to_drop=[&#x27;subscriptionid&#x27;])</pre></div></div></div><div class=\"sk-item\"><div class=\"sk-estimator sk-toggleable\"><input class=\"sk-toggleable__control sk-hidden--visually\" id=\"sk-estimator-id-15\" type=\"checkbox\" ><label for=\"sk-estimator-id-15\" class=\"sk-toggleable__label sk-toggleable__label-arrow\">DropConstantFeatures</label><div class=\"sk-toggleable__content\"><pre>DropConstantFeatures(missing_values=&#x27;ignore&#x27;)</pre></div></div></div><div class=\"sk-item\"><div class=\"sk-estimator sk-toggleable\"><input class=\"sk-toggleable__control sk-hidden--visually\" id=\"sk-estimator-id-16\" type=\"checkbox\" ><label for=\"sk-estimator-id-16\" class=\"sk-toggleable__label sk-toggleable__label-arrow\">DropDuplicateFeatures</label><div class=\"sk-toggleable__content\"><pre>DropDuplicateFeatures()</pre></div></div></div><div class=\"sk-item sk-dashed-wrapped\"><div class=\"sk-label-container\"><div class=\"sk-label sk-toggleable\"><input class=\"sk-toggleable__control sk-hidden--visually\" id=\"sk-estimator-id-17\" type=\"checkbox\" ><label for=\"sk-estimator-id-17\" class=\"sk-toggleable__label sk-toggleable__label-arrow\">cleaning: ColumnTransformer</label><div class=\"sk-toggleable__content\"><pre>ColumnTransformer(transformers=[(&#x27;num&#x27;,\n                                 Pipeline(steps=[(&#x27;simpleimputer&#x27;,\n                                                  SimpleImputer()),\n                                                 (&#x27;minmaxscaler&#x27;,\n                                                  MinMaxScaler())]),\n                                 &lt;sklearn.compose._column_transformer.make_column_selector object at 0x7f371806c190&gt;),\n                                (&#x27;cat&#x27;,\n                                 Pipeline(steps=[(&#x27;simpleimputer&#x27;,\n                                                  SimpleImputer(strategy=&#x27;most_frequent&#x27;)),\n                                                 (&#x27;onehotencoder&#x27;,\n                                                  OneHotEncoder(handle_unknown=&#x27;ignore&#x27;,\n                                                                sparse=False))]),\n                                 &lt;sklearn.compose._column_transformer.make_column_selector object at 0x7f371806c160&gt;)])</pre></div></div></div><div class=\"sk-parallel\"><div class=\"sk-parallel-item\"><div class=\"sk-item\"><div class=\"sk-label-container\"><div class=\"sk-label sk-toggleable\"><input class=\"sk-toggleable__control sk-hidden--visually\" id=\"sk-estimator-id-18\" type=\"checkbox\" ><label for=\"sk-estimator-id-18\" class=\"sk-toggleable__label sk-toggleable__label-arrow\">num</label><div class=\"sk-toggleable__content\"><pre>&lt;sklearn.compose._column_transformer.make_column_selector object at 0x7f371806c190&gt;</pre></div></div></div><div class=\"sk-serial\"><div class=\"sk-item\"><div class=\"sk-serial\"><div class=\"sk-item\"><div class=\"sk-estimator sk-toggleable\"><input class=\"sk-toggleable__control sk-hidden--visually\" id=\"sk-estimator-id-19\" type=\"checkbox\" ><label for=\"sk-estimator-id-19\" class=\"sk-toggleable__label sk-toggleable__label-arrow\">SimpleImputer</label><div class=\"sk-toggleable__content\"><pre>SimpleImputer()</pre></div></div></div><div class=\"sk-item\"><div class=\"sk-estimator sk-toggleable\"><input class=\"sk-toggleable__control sk-hidden--visually\" id=\"sk-estimator-id-20\" type=\"checkbox\" ><label for=\"sk-estimator-id-20\" class=\"sk-toggleable__label sk-toggleable__label-arrow\">MinMaxScaler</label><div class=\"sk-toggleable__content\"><pre>MinMaxScaler()</pre></div></div></div></div></div></div></div></div><div class=\"sk-parallel-item\"><div class=\"sk-item\"><div class=\"sk-label-container\"><div class=\"sk-label sk-toggleable\"><input class=\"sk-toggleable__control sk-hidden--visually\" id=\"sk-estimator-id-21\" type=\"checkbox\" ><label for=\"sk-estimator-id-21\" class=\"sk-toggleable__label sk-toggleable__label-arrow\">cat</label><div class=\"sk-toggleable__content\"><pre>&lt;sklearn.compose._column_transformer.make_column_selector object at 0x7f371806c160&gt;</pre></div></div></div><div class=\"sk-serial\"><div class=\"sk-item\"><div class=\"sk-serial\"><div class=\"sk-item\"><div class=\"sk-estimator sk-toggleable\"><input class=\"sk-toggleable__control sk-hidden--visually\" id=\"sk-estimator-id-22\" type=\"checkbox\" ><label for=\"sk-estimator-id-22\" class=\"sk-toggleable__label sk-toggleable__label-arrow\">SimpleImputer</label><div class=\"sk-toggleable__content\"><pre>SimpleImputer(strategy=&#x27;most_frequent&#x27;)</pre></div></div></div><div class=\"sk-item\"><div class=\"sk-estimator sk-toggleable\"><input class=\"sk-toggleable__control sk-hidden--visually\" id=\"sk-estimator-id-23\" type=\"checkbox\" ><label for=\"sk-estimator-id-23\" class=\"sk-toggleable__label sk-toggleable__label-arrow\">OneHotEncoder</label><div class=\"sk-toggleable__content\"><pre>OneHotEncoder(handle_unknown=&#x27;ignore&#x27;, sparse=False)</pre></div></div></div></div></div></div></div></div></div></div><div class=\"sk-item\"><div class=\"sk-estimator sk-toggleable\"><input class=\"sk-toggleable__control sk-hidden--visually\" id=\"sk-estimator-id-24\" type=\"checkbox\" ><label for=\"sk-estimator-id-24\" class=\"sk-toggleable__label sk-toggleable__label-arrow\">SMOTE</label><div class=\"sk-toggleable__content\"><pre>SMOTE()</pre></div></div></div><div class=\"sk-item sk-dashed-wrapped\"><div class=\"sk-label-container\"><div class=\"sk-label sk-toggleable\"><input class=\"sk-toggleable__control sk-hidden--visually\" id=\"sk-estimator-id-25\" type=\"checkbox\" ><label for=\"sk-estimator-id-25\" class=\"sk-toggleable__label sk-toggleable__label-arrow\">ensemble: VotingClassifier</label><div class=\"sk-toggleable__content\"><pre>VotingClassifier(estimators=[(&#x27;lr&#x27;,\n                              LogisticRegression(max_iter=400,\n                                                 warm_start=True)),\n                             (&#x27;xgb&#x27;,\n                              XGBClassifier(base_score=None, booster=None,\n                                            callbacks=None,\n                                            colsample_bylevel=None,\n                                            colsample_bynode=None,\n                                            colsample_bytree=None,\n                                            early_stopping_rounds=None,\n                                            enable_categorical=False,\n                                            eval_metric=None, gamma=None,\n                                            gpu_id=None, grow_policy=None,\n                                            importance_type=None,\n                                            int...nstraints=None,\n                                            learning_rate=None, max_bin=None,\n                                            max_cat_to_onehot=None,\n                                            max_delta_step=None, max_depth=None,\n                                            max_leaves=None,\n                                            min_child_weight=None, missing=nan,\n                                            monotone_constraints=None,\n                                            n_estimators=100, n_jobs=None,\n                                            num_parallel_tree=None,\n                                            predictor=None, random_state=None,\n                                            reg_alpha=None, reg_lambda=None, ...)),\n                             (&#x27;rf&#x27;, RandomForestClassifier())],\n                 voting=&#x27;soft&#x27;)</pre></div></div></div><div class=\"sk-parallel\"><div class=\"sk-parallel-item\"><div class=\"sk-item\"><div class=\"sk-label-container\"><div class=\"sk-label sk-toggleable\"><label>lr</label></div></div><div class=\"sk-serial\"><div class=\"sk-item\"><div class=\"sk-estimator sk-toggleable\"><input class=\"sk-toggleable__control sk-hidden--visually\" id=\"sk-estimator-id-26\" type=\"checkbox\" ><label for=\"sk-estimator-id-26\" class=\"sk-toggleable__label sk-toggleable__label-arrow\">LogisticRegression</label><div class=\"sk-toggleable__content\"><pre>LogisticRegression(max_iter=400, warm_start=True)</pre></div></div></div></div></div></div><div class=\"sk-parallel-item\"><div class=\"sk-item\"><div class=\"sk-label-container\"><div class=\"sk-label sk-toggleable\"><label>xgb</label></div></div><div class=\"sk-serial\"><div class=\"sk-item\"><div class=\"sk-estimator sk-toggleable\"><input class=\"sk-toggleable__control sk-hidden--visually\" id=\"sk-estimator-id-27\" type=\"checkbox\" ><label for=\"sk-estimator-id-27\" class=\"sk-toggleable__label sk-toggleable__label-arrow\">XGBClassifier</label><div class=\"sk-toggleable__content\"><pre>XGBClassifier(base_score=None, booster=None, callbacks=None,\n              colsample_bylevel=None, colsample_bynode=None,\n              colsample_bytree=None, early_stopping_rounds=None,\n              enable_categorical=False, eval_metric=None, gamma=None,\n              gpu_id=None, grow_policy=None, importance_type=None,\n              interaction_constraints=None, learning_rate=None, max_bin=None,\n              max_cat_to_onehot=None, max_delta_step=None, max_depth=None,\n              max_leaves=None, min_child_weight=None, missing=nan,\n              monotone_constraints=None, n_estimators=100, n_jobs=None,\n              num_parallel_tree=None, predictor=None, random_state=None,\n              reg_alpha=None, reg_lambda=None, ...)</pre></div></div></div></div></div></div><div class=\"sk-parallel-item\"><div class=\"sk-item\"><div class=\"sk-label-container\"><div class=\"sk-label sk-toggleable\"><label>rf</label></div></div><div class=\"sk-serial\"><div class=\"sk-item\"><div class=\"sk-estimator sk-toggleable\"><input class=\"sk-toggleable__control sk-hidden--visually\" id=\"sk-estimator-id-28\" type=\"checkbox\" ><label for=\"sk-estimator-id-28\" class=\"sk-toggleable__label sk-toggleable__label-arrow\">RandomForestClassifier</label><div class=\"sk-toggleable__content\"><pre>RandomForestClassifier()</pre></div></div></div></div></div></div></div></div></div></div></div></div>"
     },
     "execution_count": 10,
     "metadata": {},
     "output_type": "execute_result"
    }
   ],
   "source": [
    "ppl"
   ],
   "metadata": {
    "collapsed": false
   }
  },
  {
   "cell_type": "markdown",
   "source": [
    "# Step 5: Hyperparameter tuning and feature importance"
   ],
   "metadata": {
    "collapsed": false
   }
  },
  {
   "cell_type": "markdown",
   "source": [
    "## Hyperparameter tuning"
   ],
   "metadata": {
    "collapsed": false
   }
  },
  {
   "cell_type": "code",
   "execution_count": null,
   "outputs": [
    {
     "name": "stdout",
     "output_type": "stream",
     "text": [
      "Fitting 50 folds for each of 10 candidates, totalling 500 fits\n"
     ]
    }
   ],
   "source": [
    "# Hyperparameter tuning\n",
    "params = {\n",
    "    'ensemble__lr__solver': ['newton-cg', 'lbfgs', 'liblinear'],\n",
    "    'ensemble__lr__penalty': ['none', 'l1', 'l2', 'elasticnet'],\n",
    "    'ensemble__lr__C': loguniform(1e-5, 100),\n",
    "    'ensemble__xgb__learning_rate': [0.1],\n",
    "    'ensemble__xgb__max_depth': [7, 10, 15, 20],\n",
    "    'ensemble__xgb__min_child_weight': [10, 15, 20, 25],\n",
    "    'ensemble__xgb__colsample_bytree': [0.8, 0.9, 1],\n",
    "    'ensemble__xgb__n_estimators': [300, 400, 500, 600],\n",
    "    'ensemble__xgb__reg_alpha': [0.5, 0.2, 1],\n",
    "    'ensemble__xgb__reg_lambda': [2, 3, 5],\n",
    "    'ensemble__xgb__gamma': [1, 2, 3],\n",
    "    'ensemble__rf__max_depth': [7, 10, 15, 20],\n",
    "    'ensemble__rf__min_samples_leaf': [1, 2, 4],\n",
    "    'ensemble__rf__min_samples_split': [2, 5, 10],\n",
    "    'ensemble__rf__n_estimators': [300, 400, 500, 600],\n",
    "}\n",
    "\n",
    "rsf = RepeatedStratifiedKFold(random_state=42)\n",
    "clf = RandomizedSearchCV(ppl, params, scoring='roc_auc', verbose=2, cv=rsf, n_jobs=-2)\n",
    "clf.fit(X_train, y_train)\n",
    "\n",
    "print(\"Best Score: \", clf.best_score_)\n",
    "print(\"Best Params: \", clf.best_params_)\n",
    "print(\"AUC:\", roc_auc_score(y_val, clf.predict(X_val)))"
   ],
   "metadata": {
    "collapsed": false,
    "pycharm": {
     "is_executing": true
    }
   }
  },
  {
   "cell_type": "markdown",
   "source": [
    "## Feature importance plot"
   ],
   "metadata": {
    "collapsed": false
   }
  },
  {
   "cell_type": "code",
   "execution_count": 11,
   "outputs": [
    {
     "ename": "NotFittedError",
     "evalue": "This RandomizedSearchCV instance is not fitted yet. Call 'fit' with appropriate arguments before using this estimator.",
     "output_type": "error",
     "traceback": [
      "\u001B[0;31m---------------------------------------------------------------------------\u001B[0m",
      "\u001B[0;31mNotFittedError\u001B[0m                            Traceback (most recent call last)",
      "\u001B[0;32m<ipython-input-11-126c97b81584>\u001B[0m in \u001B[0;36m<module>\u001B[0;34m\u001B[0m\n\u001B[1;32m     25\u001B[0m \u001B[0;31m# In case we do not use hyperparameter tuning, we could provide here a fitted version of ppl\u001B[0m\u001B[0;34m\u001B[0m\u001B[0;34m\u001B[0m\u001B[0;34m\u001B[0m\u001B[0m\n\u001B[1;32m     26\u001B[0m \u001B[0;31m# For example: ppl.fit(X_train, y_train)\u001B[0m\u001B[0;34m\u001B[0m\u001B[0;34m\u001B[0m\u001B[0;34m\u001B[0m\u001B[0m\n\u001B[0;32m---> 27\u001B[0;31m \u001B[0mperm_importance_result_train\u001B[0m \u001B[0;34m=\u001B[0m \u001B[0mpermutation_importance\u001B[0m\u001B[0;34m(\u001B[0m\u001B[0mclf\u001B[0m\u001B[0;34m,\u001B[0m \u001B[0mX_train\u001B[0m\u001B[0;34m,\u001B[0m \u001B[0my_train\u001B[0m\u001B[0;34m,\u001B[0m \u001B[0mrandom_state\u001B[0m\u001B[0;34m=\u001B[0m\u001B[0;36m42\u001B[0m\u001B[0;34m,\u001B[0m \u001B[0mn_jobs\u001B[0m\u001B[0;34m=\u001B[0m\u001B[0;34m-\u001B[0m\u001B[0;36m2\u001B[0m\u001B[0;34m)\u001B[0m\u001B[0;34m\u001B[0m\u001B[0;34m\u001B[0m\u001B[0m\n\u001B[0m\u001B[1;32m     28\u001B[0m \u001B[0mplot_feature_importances\u001B[0m\u001B[0;34m(\u001B[0m\u001B[0mperm_importance_result_train\u001B[0m\u001B[0;34m,\u001B[0m \u001B[0mfeatures\u001B[0m\u001B[0;34m)\u001B[0m\u001B[0;34m\u001B[0m\u001B[0;34m\u001B[0m\u001B[0m\n",
      "\u001B[0;32m/mnt/Dados/Mestrado_Computacao_Aplicada_UFMS/1_semestre/Inteligencia_Artificial/algoritmos-ia/venv/lib/python3.8/site-packages/sklearn/inspection/_permutation_importance.py\u001B[0m in \u001B[0;36mpermutation_importance\u001B[0;34m(estimator, X, y, scoring, n_repeats, n_jobs, random_state, sample_weight, max_samples)\u001B[0m\n\u001B[1;32m    255\u001B[0m         \u001B[0mscorer\u001B[0m \u001B[0;34m=\u001B[0m \u001B[0m_MultimetricScorer\u001B[0m\u001B[0;34m(\u001B[0m\u001B[0;34m**\u001B[0m\u001B[0mscorers_dict\u001B[0m\u001B[0;34m)\u001B[0m\u001B[0;34m\u001B[0m\u001B[0;34m\u001B[0m\u001B[0m\n\u001B[1;32m    256\u001B[0m \u001B[0;34m\u001B[0m\u001B[0m\n\u001B[0;32m--> 257\u001B[0;31m     \u001B[0mbaseline_score\u001B[0m \u001B[0;34m=\u001B[0m \u001B[0m_weights_scorer\u001B[0m\u001B[0;34m(\u001B[0m\u001B[0mscorer\u001B[0m\u001B[0;34m,\u001B[0m \u001B[0mestimator\u001B[0m\u001B[0;34m,\u001B[0m \u001B[0mX\u001B[0m\u001B[0;34m,\u001B[0m \u001B[0my\u001B[0m\u001B[0;34m,\u001B[0m \u001B[0msample_weight\u001B[0m\u001B[0;34m)\u001B[0m\u001B[0;34m\u001B[0m\u001B[0;34m\u001B[0m\u001B[0m\n\u001B[0m\u001B[1;32m    258\u001B[0m \u001B[0;34m\u001B[0m\u001B[0m\n\u001B[1;32m    259\u001B[0m     scores = Parallel(n_jobs=n_jobs)(\n",
      "\u001B[0;32m/mnt/Dados/Mestrado_Computacao_Aplicada_UFMS/1_semestre/Inteligencia_Artificial/algoritmos-ia/venv/lib/python3.8/site-packages/sklearn/inspection/_permutation_importance.py\u001B[0m in \u001B[0;36m_weights_scorer\u001B[0;34m(scorer, estimator, X, y, sample_weight)\u001B[0m\n\u001B[1;32m     17\u001B[0m     \u001B[0;32mif\u001B[0m \u001B[0msample_weight\u001B[0m \u001B[0;32mis\u001B[0m \u001B[0;32mnot\u001B[0m \u001B[0;32mNone\u001B[0m\u001B[0;34m:\u001B[0m\u001B[0;34m\u001B[0m\u001B[0;34m\u001B[0m\u001B[0m\n\u001B[1;32m     18\u001B[0m         \u001B[0;32mreturn\u001B[0m \u001B[0mscorer\u001B[0m\u001B[0;34m(\u001B[0m\u001B[0mestimator\u001B[0m\u001B[0;34m,\u001B[0m \u001B[0mX\u001B[0m\u001B[0;34m,\u001B[0m \u001B[0my\u001B[0m\u001B[0;34m,\u001B[0m \u001B[0msample_weight\u001B[0m\u001B[0;34m)\u001B[0m\u001B[0;34m\u001B[0m\u001B[0;34m\u001B[0m\u001B[0m\n\u001B[0;32m---> 19\u001B[0;31m     \u001B[0;32mreturn\u001B[0m \u001B[0mscorer\u001B[0m\u001B[0;34m(\u001B[0m\u001B[0mestimator\u001B[0m\u001B[0;34m,\u001B[0m \u001B[0mX\u001B[0m\u001B[0;34m,\u001B[0m \u001B[0my\u001B[0m\u001B[0;34m)\u001B[0m\u001B[0;34m\u001B[0m\u001B[0;34m\u001B[0m\u001B[0m\n\u001B[0m\u001B[1;32m     20\u001B[0m \u001B[0;34m\u001B[0m\u001B[0m\n\u001B[1;32m     21\u001B[0m \u001B[0;34m\u001B[0m\u001B[0m\n",
      "\u001B[0;32m/mnt/Dados/Mestrado_Computacao_Aplicada_UFMS/1_semestre/Inteligencia_Artificial/algoritmos-ia/venv/lib/python3.8/site-packages/sklearn/metrics/_scorer.py\u001B[0m in \u001B[0;36m_passthrough_scorer\u001B[0;34m(estimator, *args, **kwargs)\u001B[0m\n\u001B[1;32m    427\u001B[0m \u001B[0;32mdef\u001B[0m \u001B[0m_passthrough_scorer\u001B[0m\u001B[0;34m(\u001B[0m\u001B[0mestimator\u001B[0m\u001B[0;34m,\u001B[0m \u001B[0;34m*\u001B[0m\u001B[0margs\u001B[0m\u001B[0;34m,\u001B[0m \u001B[0;34m**\u001B[0m\u001B[0mkwargs\u001B[0m\u001B[0;34m)\u001B[0m\u001B[0;34m:\u001B[0m\u001B[0;34m\u001B[0m\u001B[0;34m\u001B[0m\u001B[0m\n\u001B[1;32m    428\u001B[0m     \u001B[0;34m\"\"\"Function that wraps estimator.score\"\"\"\u001B[0m\u001B[0;34m\u001B[0m\u001B[0;34m\u001B[0m\u001B[0m\n\u001B[0;32m--> 429\u001B[0;31m     \u001B[0;32mreturn\u001B[0m \u001B[0mestimator\u001B[0m\u001B[0;34m.\u001B[0m\u001B[0mscore\u001B[0m\u001B[0;34m(\u001B[0m\u001B[0;34m*\u001B[0m\u001B[0margs\u001B[0m\u001B[0;34m,\u001B[0m \u001B[0;34m**\u001B[0m\u001B[0mkwargs\u001B[0m\u001B[0;34m)\u001B[0m\u001B[0;34m\u001B[0m\u001B[0;34m\u001B[0m\u001B[0m\n\u001B[0m\u001B[1;32m    430\u001B[0m \u001B[0;34m\u001B[0m\u001B[0m\n\u001B[1;32m    431\u001B[0m \u001B[0;34m\u001B[0m\u001B[0m\n",
      "\u001B[0;32m/mnt/Dados/Mestrado_Computacao_Aplicada_UFMS/1_semestre/Inteligencia_Artificial/algoritmos-ia/venv/lib/python3.8/site-packages/sklearn/model_selection/_search.py\u001B[0m in \u001B[0;36mscore\u001B[0;34m(self, X, y)\u001B[0m\n\u001B[1;32m    435\u001B[0m         \"\"\"\n\u001B[1;32m    436\u001B[0m         \u001B[0m_check_refit\u001B[0m\u001B[0;34m(\u001B[0m\u001B[0mself\u001B[0m\u001B[0;34m,\u001B[0m \u001B[0;34m\"score\"\u001B[0m\u001B[0;34m)\u001B[0m\u001B[0;34m\u001B[0m\u001B[0;34m\u001B[0m\u001B[0m\n\u001B[0;32m--> 437\u001B[0;31m         \u001B[0mcheck_is_fitted\u001B[0m\u001B[0;34m(\u001B[0m\u001B[0mself\u001B[0m\u001B[0;34m)\u001B[0m\u001B[0;34m\u001B[0m\u001B[0;34m\u001B[0m\u001B[0m\n\u001B[0m\u001B[1;32m    438\u001B[0m         \u001B[0;32mif\u001B[0m \u001B[0mself\u001B[0m\u001B[0;34m.\u001B[0m\u001B[0mscorer_\u001B[0m \u001B[0;32mis\u001B[0m \u001B[0;32mNone\u001B[0m\u001B[0;34m:\u001B[0m\u001B[0;34m\u001B[0m\u001B[0;34m\u001B[0m\u001B[0m\n\u001B[1;32m    439\u001B[0m             raise ValueError(\n",
      "\u001B[0;32m/mnt/Dados/Mestrado_Computacao_Aplicada_UFMS/1_semestre/Inteligencia_Artificial/algoritmos-ia/venv/lib/python3.8/site-packages/sklearn/utils/validation.py\u001B[0m in \u001B[0;36mcheck_is_fitted\u001B[0;34m(estimator, attributes, msg, all_or_any)\u001B[0m\n\u001B[1;32m   1343\u001B[0m \u001B[0;34m\u001B[0m\u001B[0m\n\u001B[1;32m   1344\u001B[0m     \u001B[0;32mif\u001B[0m \u001B[0;32mnot\u001B[0m \u001B[0mfitted\u001B[0m\u001B[0;34m:\u001B[0m\u001B[0;34m\u001B[0m\u001B[0;34m\u001B[0m\u001B[0m\n\u001B[0;32m-> 1345\u001B[0;31m         \u001B[0;32mraise\u001B[0m \u001B[0mNotFittedError\u001B[0m\u001B[0;34m(\u001B[0m\u001B[0mmsg\u001B[0m \u001B[0;34m%\u001B[0m \u001B[0;34m{\u001B[0m\u001B[0;34m\"name\"\u001B[0m\u001B[0;34m:\u001B[0m \u001B[0mtype\u001B[0m\u001B[0;34m(\u001B[0m\u001B[0mestimator\u001B[0m\u001B[0;34m)\u001B[0m\u001B[0;34m.\u001B[0m\u001B[0m__name__\u001B[0m\u001B[0;34m}\u001B[0m\u001B[0;34m)\u001B[0m\u001B[0;34m\u001B[0m\u001B[0;34m\u001B[0m\u001B[0m\n\u001B[0m\u001B[1;32m   1346\u001B[0m \u001B[0;34m\u001B[0m\u001B[0m\n\u001B[1;32m   1347\u001B[0m \u001B[0;34m\u001B[0m\u001B[0m\n",
      "\u001B[0;31mNotFittedError\u001B[0m: This RandomizedSearchCV instance is not fitted yet. Call 'fit' with appropriate arguments before using this estimator."
     ]
    }
   ],
   "source": [
    "# https://inria.github.io/scikit-learn-mooc/python_scripts/dev_features_importance.html\n",
    "def plot_feature_importances(perm_importance_result, feat_name):\n",
    "    \"\"\" bar plot the feature importance \"\"\"\n",
    "    fig, ax = plt.subplots()\n",
    "\n",
    "    indices = perm_importance_result['importances_mean'].argsort()\n",
    "    plt.barh(\n",
    "        range(len(indices)),\n",
    "        perm_importance_result['importances_mean'][indices],\n",
    "        xerr=perm_importance_result['importances_std'][indices]\n",
    "    )\n",
    "    ax.set_yticks(range(len(indices)))\n",
    "    ax.set_title(\"Permutation importance\")\n",
    "\n",
    "    tmp = np.array(feat_name)\n",
    "    _ = ax.set_yticklabels(tmp[indices])\n",
    "\n",
    "# Extract feature names after the transformation steps\n",
    "# Therefore, we have to fit one part ([0:4]) of our pipeline to our data\n",
    "ppl_fts = ppl[0:4]\n",
    "ppl_fts.fit(X_train, y_train)\n",
    "features = ppl_fts.get_feature_names_out()\n",
    "\n",
    "# We provide the function our hyperparameter-tuned model/pipeline: clf\n",
    "# In case we do not use hyperparameter tuning, we could provide here a fitted version of ppl\n",
    "# For example: ppl.fit(X_train, y_train)\n",
    "perm_importance_result_train = permutation_importance(clf, X_train, y_train, random_state=42, n_jobs=-2)\n",
    "plot_feature_importances(perm_importance_result_train, features)"
   ],
   "metadata": {
    "collapsed": false
   }
  }
 ],
 "metadata": {
  "kernelspec": {
   "display_name": "Python 3",
   "language": "python",
   "name": "python3"
  },
  "language_info": {
   "codemirror_mode": {
    "name": "ipython",
    "version": 2
   },
   "file_extension": ".py",
   "mimetype": "text/x-python",
   "name": "python",
   "nbconvert_exporter": "python",
   "pygments_lexer": "ipython2",
   "version": "2.7.6"
  }
 },
 "nbformat": 4,
 "nbformat_minor": 0
}
