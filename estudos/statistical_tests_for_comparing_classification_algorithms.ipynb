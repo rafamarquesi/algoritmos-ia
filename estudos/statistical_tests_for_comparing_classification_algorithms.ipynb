{
 "cells": [
  {
   "cell_type": "markdown",
   "source": [
    "# Statistical Tests for Comparing Classification Algorithms\n",
    "## Review of the seminal paper and implementations to uncover the best option for your data\n",
    "\n",
    "Author: Tiago Toledo Jr.\n",
    "\n",
    "Article from [towardsdatascience](https://towardsdatascience.com/statistical-tests-for-comparing-classification-algorithms-ac1804e79bb7).\n",
    "\n",
    "> Note: In this notebook, I am studying the article mentioned above. Some changes may have been made to the code during its implementation."
   ],
   "metadata": {
    "collapsed": false,
    "pycharm": {
     "name": "#%% md\n"
    }
   }
  },
  {
   "cell_type": "markdown",
   "source": [
    "# Initial Code Setup"
   ],
   "metadata": {
    "collapsed": false,
    "pycharm": {
     "name": "#%% md\n"
    }
   }
  },
  {
   "cell_type": "code",
   "execution_count": 1,
   "outputs": [],
   "source": [
    "# Importing the required libs\n",
    "import numpy as np\n",
    "import pandas as pd\n",
    "\n",
    "from tqdm import tqdm\n",
    "from scipy.stats import norm, chi2\n",
    "from scipy.stats import t as t_dist\n",
    "from sklearn.datasets import load_wine\n",
    "from sklearn.metrics import accuracy_score\n",
    "from sklearn.ensemble import RandomForestClassifier\n",
    "from sklearn.neighbors import KNeighborsClassifier\n",
    "from sklearn.model_selection import train_test_split, KFold\n",
    "\n",
    "# Libs implementations\n",
    "from mlxtend.evaluate import mcnemar\n",
    "from mlxtend.evaluate import mcnemar_table\n",
    "from mlxtend.evaluate import paired_ttest_5x2cv\n",
    "from mlxtend.evaluate import proportion_difference\n",
    "from mlxtend.evaluate import paired_ttest_kfold_cv\n",
    "from mlxtend.evaluate import paired_ttest_resampled\n",
    "\n",
    "# Getting the wine data from sklearn\n",
    "X, y = load_wine(return_X_y=True)\n",
    "\n",
    "# Instantiating the classification algorithms\n",
    "rf = RandomForestClassifier(random_state=42)\n",
    "knn = KNeighborsClassifier(n_neighbors=1)\n",
    "\n",
    "# For holdout cases\n",
    "X_train, X_test, y_train, y_test = train_test_split(X, y, test_size=0.20, random_state=42)"
   ],
   "metadata": {
    "collapsed": false,
    "pycharm": {
     "name": "#%%\n"
    }
   }
  },
  {
   "cell_type": "markdown",
   "source": [
    "# Two Proportions Test"
   ],
   "metadata": {
    "collapsed": false,
    "pycharm": {
     "name": "#%% md\n"
    }
   }
  },
  {
   "cell_type": "code",
   "execution_count": 2,
   "outputs": [
    {
     "name": "stdout",
     "output_type": "stream",
     "text": [
      "Proportions Z-Test\n",
      "z statistic: 3.2071349029490928, p-value: 0.9993296794413853\n",
      "\n"
     ]
    }
   ],
   "source": [
    "# First we fit the classification algorithms\n",
    "rf.fit(X_train, y_train)\n",
    "knn.fit(X_train, y_train)\n",
    "\n",
    "# Generate the predictions\n",
    "rf_y = rf.predict(X_test)\n",
    "knn_y = knn.predict(X_test)\n",
    "\n",
    "# Calculate the accuracy\n",
    "acc1 = accuracy_score(y_test, rf_y)\n",
    "acc2 = accuracy_score(y_test, knn_y)\n",
    "\n",
    "# Run the test\n",
    "print('Proportions Z-Test')\n",
    "z, p =proportion_difference(acc1, acc2, n_1=len(y_test))\n",
    "print(f'z statistic: {z}, p-value: {p}\\n')"
   ],
   "metadata": {
    "collapsed": false,
    "pycharm": {
     "name": "#%%\n"
    }
   }
  },
  {
   "cell_type": "markdown",
   "source": [
    "# Resampled Paired t-test"
   ],
   "metadata": {
    "collapsed": false,
    "pycharm": {
     "name": "#%% md\n"
    }
   }
  },
  {
   "cell_type": "code",
   "execution_count": 3,
   "outputs": [],
   "source": [
    "def paired_t_test(p):\n",
    "    p_hat = np.mean(p)\n",
    "    n = len(p)\n",
    "    den = np.sqrt(sum([(diff - p_hat)**2 for diff in p]) / (n - 1))\n",
    "    t = (p_hat * (n**(1/2))) / den\n",
    "\n",
    "    p_value = t_dist.sf(t, n-1)*2\n",
    "\n",
    "    return t, p_value"
   ],
   "metadata": {
    "collapsed": false,
    "pycharm": {
     "name": "#%%\n"
    }
   }
  },
  {
   "cell_type": "code",
   "execution_count": 4,
   "outputs": [
    {
     "name": "stdout",
     "output_type": "stream",
     "text": [
      "Paired t-test Resampled\n",
      "t statistic: 20.825868869252297, p-value: 5.467889135932688e-19\n",
      "\n"
     ]
    }
   ],
   "source": [
    "n_tests = 30\n",
    "\n",
    "p_ = []\n",
    "rng = np.random.RandomState(42)\n",
    "for i in range(n_tests):\n",
    "    randint = rng.randint(low=0, high=32767)\n",
    "    X_train, X_test, y_train, y_test = train_test_split(X, y, test_size=0.20, random_state=randint)\n",
    "    rf.fit(X_train, y_train)\n",
    "    knn.fit(X_train, y_train)\n",
    "\n",
    "    acc1 = accuracy_score(y_test, rf.predict(X_test))\n",
    "    acc2 = accuracy_score(y_test, knn.predict(X_test))\n",
    "    p_.append(acc1 - acc2)\n",
    "\n",
    "print('Paired t-test Resampled')\n",
    "t, p = paired_t_test(p_)\n",
    "print(f't statistic: {t}, p-value: {p}\\n')"
   ],
   "metadata": {
    "collapsed": false,
    "pycharm": {
     "name": "#%%\n"
    }
   }
  },
  {
   "cell_type": "markdown",
   "source": [
    "Below is the version already implemented in the Mlxtend library."
   ],
   "metadata": {
    "collapsed": false,
    "pycharm": {
     "name": "#%% md\n"
    }
   }
  },
  {
   "cell_type": "code",
   "execution_count": 5,
   "outputs": [
    {
     "name": "stdout",
     "output_type": "stream",
     "text": [
      "Paired t-test Resampled\n",
      "t statistic: 20.825868869252297, p-value: 5.467889135932688e-19\n",
      "\n"
     ]
    }
   ],
   "source": [
    "print('Paired t-test Resampled')\n",
    "t, p = paired_ttest_resampled(estimator1=rf, estimator2=knn, X=X, y=y, random_seed=42, num_rounds=30, test_size=0.2)\n",
    "print(f't statistic: {t}, p-value: {p}\\n')"
   ],
   "metadata": {
    "collapsed": false,
    "pycharm": {
     "name": "#%%\n"
    }
   }
  },
  {
   "cell_type": "markdown",
   "source": [
    "# Cross-Validated Paired t-test"
   ],
   "metadata": {
    "collapsed": false,
    "pycharm": {
     "name": "#%% md\n"
    }
   }
  },
  {
   "cell_type": "code",
   "execution_count": 6,
   "outputs": [
    {
     "name": "stdout",
     "output_type": "stream",
     "text": [
      "Cross Validated Paired t-tes\n",
      "t statistic: 9.468833293996424, p-value: 5.6252171240942e-06\n",
      "\n"
     ]
    }
   ],
   "source": [
    "p_ = []\n",
    "\n",
    "kf = KFold(n_splits=10, shuffle=True, random_state=42)\n",
    "for train_index, test_index in kf.split(X):\n",
    "    X_train, X_test, y_train, y_test = X[train_index], X[test_index], y[train_index], y[test_index]\n",
    "    rf.fit(X_train, y_train)\n",
    "    knn.fit(X_train, y_train)\n",
    "\n",
    "    acc1 = accuracy_score(y_test, rf.predict(X_test))\n",
    "    acc2 = accuracy_score(y_test, knn.predict(X_test))\n",
    "    p_.append(acc1 - acc2)\n",
    "\n",
    "print('Cross Validated Paired t-tes')\n",
    "t, p = paired_t_test(p_)\n",
    "print(f't statistic: {t}, p-value: {p}\\n')"
   ],
   "metadata": {
    "collapsed": false,
    "pycharm": {
     "name": "#%%\n"
    }
   }
  },
  {
   "cell_type": "markdown",
   "source": [
    "Below is the version already implemented in the Mlxtend library."
   ],
   "metadata": {
    "collapsed": false,
    "pycharm": {
     "name": "#%% md\n"
    }
   }
  },
  {
   "cell_type": "code",
   "execution_count": 7,
   "outputs": [
    {
     "name": "stdout",
     "output_type": "stream",
     "text": [
      "t statistic: 9.468833293996424, p-value: 5.6252171240942e-06\n",
      "\n"
     ]
    }
   ],
   "source": [
    "t, p = paired_ttest_kfold_cv(estimator1=rf, estimator2=knn, X=X, y=y, random_seed=42, shuffle=True, cv=10)\n",
    "print(f't statistic: {t}, p-value: {p}\\n')"
   ],
   "metadata": {
    "collapsed": false,
    "pycharm": {
     "name": "#%%\n"
    }
   }
  },
  {
   "cell_type": "markdown",
   "source": [
    "# McNemar's Test"
   ],
   "metadata": {
    "collapsed": false,
    "pycharm": {
     "name": "#%% md\n"
    }
   }
  },
  {
   "cell_type": "code",
   "execution_count": 26,
   "outputs": [],
   "source": [
    "def mcnemar_test(contingency_table, y_true, y_1, y_2):\n",
    "    # b = sum(np.logical_and((knn_y != y_test),(rf_y == y_test)))\n",
    "    # c = sum(np.logical_and((knn_y == y_test),(rf_y != y_test)))\n",
    "\n",
    "    b = contingency_table[0][1]\n",
    "    c = contingency_table[1][0]\n",
    "\n",
    "    c_ = (np.abs(b - c) - 1)**2 / (b + c)\n",
    "\n",
    "    p_value = chi2.sf(c_, 1)\n",
    "    return c_, p_value"
   ],
   "metadata": {
    "collapsed": false,
    "pycharm": {
     "name": "#%%\n"
    }
   }
  },
  {
   "cell_type": "code",
   "execution_count": 27,
   "outputs": [
    {
     "name": "stdout",
     "output_type": "stream",
     "text": [
      "McNemar's test\n",
      "chi2 statistic: 6.125, p-value: 0.01332832878081758\n",
      "\n"
     ]
    }
   ],
   "source": [
    "print('McNemar\\'s test')\n",
    "\n",
    "# Adjustment to generate the contingency table, as the original function was calculating the contingency table it was giving an error. So, the table is being generated automatically and the function that performs the calculation has been changed.\n",
    "# For holdout cases\n",
    "X_train, X_test, y_train, y_test = train_test_split(X, y, test_size=0.20, random_state=42)\n",
    "\n",
    "contingency_table = mcnemar_table(y_target=y_test, y_model1=rf_y, y_model2=knn_y)\n",
    "\n",
    "chi2_, p = mcnemar_test(contingency_table, y_test, rf_y, knn_y)\n",
    "print(f'chi2 statistic: {chi2_}, p-value: {p}\\n')"
   ],
   "metadata": {
    "collapsed": false,
    "pycharm": {
     "name": "#%%\n"
    }
   }
  },
  {
   "cell_type": "markdown",
   "source": [
    "Below is the version already implemented in the Mlxtend library."
   ],
   "metadata": {
    "collapsed": false,
    "pycharm": {
     "name": "#%% md\n"
    }
   }
  },
  {
   "cell_type": "code",
   "execution_count": 28,
   "outputs": [
    {
     "name": "stdout",
     "output_type": "stream",
     "text": [
      "McNemar's test\n",
      "chi2 statistic: 6.125, p-value: 0.01332832878081758\n",
      "\n"
     ]
    }
   ],
   "source": [
    "print('McNemar\\'s test')\n",
    "table = mcnemar_table(y_target=y_test, y_model1=rf_y, y_model2=knn_y)\n",
    "chi2_, p = mcnemar(ary=table, corrected=True)\n",
    "print(f'chi2 statistic: {chi2_}, p-value: {p}\\n')"
   ],
   "metadata": {
    "collapsed": false,
    "pycharm": {
     "name": "#%%\n"
    }
   }
  },
  {
   "cell_type": "markdown",
   "source": [
    "# 5x2 Cross-Validation Test"
   ],
   "metadata": {
    "collapsed": false,
    "pycharm": {
     "name": "#%% md\n"
    }
   }
  },
  {
   "cell_type": "code",
   "execution_count": 31,
   "outputs": [],
   "source": [
    "def five_two_statistic(p1, p2):\n",
    "    p1 = np.array(p1)\n",
    "    p2 = np.array(p2)\n",
    "    p_hat = (p1 + p2) / 2\n",
    "    s = (p1 - p_hat)**2 + (p2 - p_hat)**2\n",
    "    t = p1[0] / np.sqrt(1/5. * sum(s))\n",
    "\n",
    "    p_value = t_dist.sf(t, 5)*2\n",
    "\n",
    "    return t, p_value"
   ],
   "metadata": {
    "collapsed": false,
    "pycharm": {
     "name": "#%%\n"
    }
   }
  },
  {
   "cell_type": "code",
   "execution_count": 33,
   "outputs": [
    {
     "name": "stdout",
     "output_type": "stream",
     "text": [
      "5x2 CV Paired t-test\n",
      "t statistic: 6.454972243679027, p-value: 0.0013279254349912806\n",
      "\n"
     ]
    }
   ],
   "source": [
    "p_1 = []\n",
    "p_2 = []\n",
    "\n",
    "rng = np.random.RandomState(42)\n",
    "for i in range(5):\n",
    "    randint = rng.randint(low=0, high=32767)\n",
    "    X_train, X_test, y_train, y_test = train_test_split(X, y, test_size=0.50, random_state=randint)\n",
    "\n",
    "    rf.fit(X_train, y_train)\n",
    "    knn.fit(X_train, y_train)\n",
    "    acc1 = accuracy_score(y_test, rf.predict(X_test))\n",
    "    acc2 = accuracy_score(y_test, knn.predict(X_test))\n",
    "    p_1.append(acc1 - acc2)\n",
    "\n",
    "    rf.fit(X_test, y_test)\n",
    "    knn.fit(X_test, y_test)\n",
    "    acc1 = accuracy_score(y_train, rf.predict(X_train))\n",
    "    acc2 = accuracy_score(y_train, knn.predict(X_train))\n",
    "    p_2.append(acc1 - acc2)\n",
    "\n",
    "# Running the test\n",
    "print('5x2 CV Paired t-test')\n",
    "t, p = five_two_statistic(p_1, p_2)\n",
    "print(f't statistic: {t}, p-value: {p}\\n')"
   ],
   "metadata": {
    "collapsed": false,
    "pycharm": {
     "name": "#%%\n"
    }
   }
  },
  {
   "cell_type": "markdown",
   "source": [
    "Below is the version already implemented in the Mlxtend library."
   ],
   "metadata": {
    "collapsed": false,
    "pycharm": {
     "name": "#%% md\n"
    }
   }
  },
  {
   "cell_type": "code",
   "execution_count": 34,
   "outputs": [
    {
     "name": "stdout",
     "output_type": "stream",
     "text": [
      "5x2 CV Paired t-test\n",
      "t statistic: 6.454972243679027, p-value: 0.0013279254349912806\n",
      "\n"
     ]
    }
   ],
   "source": [
    "print('5x2 CV Paired t-test')\n",
    "t, p = paired_ttest_5x2cv(estimator1=rf, estimator2=knn, X=X, y=y, random_seed=42)\n",
    "print(f't statistic: {t}, p-value: {p}\\n')"
   ],
   "metadata": {
    "collapsed": false,
    "pycharm": {
     "name": "#%%\n"
    }
   }
  }
 ],
 "metadata": {
  "kernelspec": {
   "display_name": "Python 3",
   "language": "python",
   "name": "python3"
  },
  "language_info": {
   "codemirror_mode": {
    "name": "ipython",
    "version": 2
   },
   "file_extension": ".py",
   "mimetype": "text/x-python",
   "name": "python",
   "nbconvert_exporter": "python",
   "pygments_lexer": "ipython2",
   "version": "2.7.6"
  }
 },
 "nbformat": 4,
 "nbformat_minor": 0
}