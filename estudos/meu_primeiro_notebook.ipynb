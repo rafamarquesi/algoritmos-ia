{
 "cells": [
  {
   "cell_type": "code",
   "execution_count": 1,
   "id": "7ad1b86a",
   "metadata": {
    "pycharm": {
     "name": "#%%\n"
    }
   },
   "outputs": [
    {
     "name": "stdout",
     "output_type": "stream",
     "text": [
      "(x) ao quadrado é igual a 16\n"
     ]
    }
   ],
   "source": [
    "x = 4\n",
    "print(f'{x} ao quadrado é igual a {x**2}')"
   ]
  },
  {
   "cell_type": "code",
   "execution_count": 2,
   "id": "7b339037",
   "metadata": {
    "pycharm": {
     "name": "#%%\n"
    }
   },
   "outputs": [
    {
     "data": {
      "text/plain": [
       "'Rafael'"
      ]
     },
     "execution_count": 2,
     "metadata": {},
     "output_type": "execute_result"
    }
   ],
   "source": [
    "nome = 'Rafael'\n",
    "nome"
   ]
  },
  {
   "cell_type": "code",
   "execution_count": 3,
   "id": "56b43047",
   "metadata": {
    "pycharm": {
     "name": "#%%\n"
    }
   },
   "outputs": [
    {
     "name": "stdout",
     "output_type": "stream",
     "text": [
      "Rafael\n"
     ]
    }
   ],
   "source": [
    "print(nome)"
   ]
  },
  {
   "cell_type": "code",
   "execution_count": 4,
   "id": "fcf69bf5",
   "metadata": {
    "pycharm": {
     "name": "#%%\n"
    }
   },
   "outputs": [
    {
     "data": {
      "text/plain": [
       "'aaa'"
      ]
     },
     "execution_count": 4,
     "metadata": {},
     "output_type": "execute_result"
    }
   ],
   "source": [
    "'aaa'"
   ]
  },
  {
   "cell_type": "code",
   "execution_count": 5,
   "id": "7dc6c8a3",
   "metadata": {
    "pycharm": {
     "name": "#%%\n"
    }
   },
   "outputs": [
    {
     "name": "stdout",
     "output_type": "stream",
     "text": [
      "aaa\n"
     ]
    }
   ],
   "source": [
    "print('aaa')"
   ]
  },
  {
   "cell_type": "code",
   "execution_count": 6,
   "id": "5695594c",
   "metadata": {
    "pycharm": {
     "name": "#%%\n"
    }
   },
   "outputs": [
    {
     "data": {
      "text/plain": [
       "'essa será'"
      ]
     },
     "execution_count": 6,
     "metadata": {},
     "output_type": "execute_result"
    }
   ],
   "source": [
    "'essa linha não será exibida'\n",
    "'essa será'"
   ]
  },
  {
   "cell_type": "code",
   "execution_count": 7,
   "id": "a2887a29",
   "metadata": {
    "pycharm": {
     "name": "#%%\n"
    }
   },
   "outputs": [
    {
     "name": "stdout",
     "output_type": "stream",
     "text": [
      "eu sim\n"
     ]
    }
   ],
   "source": [
    "'eu não vou aparecer'\n",
    "'eu também não'\n",
    "print('eu sim')"
   ]
  },
  {
   "cell_type": "code",
   "execution_count": 8,
   "id": "4a70954d",
   "metadata": {
    "pycharm": {
     "name": "#%%\n"
    }
   },
   "outputs": [
    {
     "name": "stdout",
     "output_type": "stream",
     "text": [
      "aqui todo mundo aparece\n",
      "porque estamos usando\n",
      "a função print\n"
     ]
    }
   ],
   "source": [
    "print('aqui todo mundo aparece')\n",
    "print('porque estamos usando')\n",
    "print('a função print')"
   ]
  },
  {
   "cell_type": "code",
   "execution_count": 9,
   "id": "95221ca5",
   "metadata": {
    "pycharm": {
     "name": "#%%\n"
    }
   },
   "outputs": [
    {
     "data": {
      "text/plain": [
       "4"
      ]
     },
     "execution_count": 9,
     "metadata": {},
     "output_type": "execute_result"
    }
   ],
   "source": [
    "x"
   ]
  },
  {
   "cell_type": "markdown",
   "id": "76660e51",
   "metadata": {
    "pycharm": {
     "name": "#%% md\n"
    }
   },
   "source": [
    "print('aaa')"
   ]
  },
  {
   "cell_type": "markdown",
   "id": "aa7013ce",
   "metadata": {
    "pycharm": {
     "name": "#%% md\n"
    }
   },
   "source": [
    "# Meu título"
   ]
  },
  {
   "cell_type": "code",
   "execution_count": null,
   "id": "b6dd40ba",
   "metadata": {
    "pycharm": {
     "name": "#%%\n"
    }
   },
   "outputs": [],
   "source": []
  }
 ],
 "metadata": {
  "kernelspec": {
   "display_name": "Python 3",
   "language": "python",
   "name": "python3"
  },
  "language_info": {
   "codemirror_mode": {
    "name": "ipython",
    "version": 3
   },
   "file_extension": ".py",
   "mimetype": "text/x-python",
   "name": "python",
   "nbconvert_exporter": "python",
   "pygments_lexer": "ipython3",
   "version": "3.8.5"
  }
 },
 "nbformat": 4,
 "nbformat_minor": 5
}